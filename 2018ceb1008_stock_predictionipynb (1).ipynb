{
  "nbformat": 4,
  "nbformat_minor": 0,
  "metadata": {
    "colab": {
      "name": "2018ceb1008_stock predictionipynb",
      "provenance": [],
      "collapsed_sections": []
    },
    "kernelspec": {
      "name": "python3",
      "display_name": "Python 3"
    },
    "accelerator": "TPU"
  },
  "cells": [
    {
      "cell_type": "code",
      "metadata": {
        "id": "Hv9ZEgbO8lM0"
      },
      "source": [
        "from keras.models import Sequential\n",
        "from keras.layers import Dense, Dropout, LSTM, SimpleRNN\n",
        "from sklearn.model_selection import train_test_split\n",
        "import numpy as np\n",
        "import matplotlib.pyplot as plt\n",
        "import pandas_datareader as web"
      ],
      "execution_count": null,
      "outputs": []
    },
    {
      "cell_type": "markdown",
      "metadata": {
        "id": "cFem0g-CkU9O"
      },
      "source": [
        "# **Stock Price Prediction**\n",
        "\n",
        "Given last 50 days of tesla price and S&P500, plot next five days of predicted tesla closing stock price, compare with actual. Show your results using comparative graphs as done for the flights data in example shared earlier."
      ]
    },
    {
      "cell_type": "code",
      "metadata": {
        "id": "Mqs4eAwSVmE_",
        "colab": {
          "base_uri": "https://localhost:8080/"
        },
        "outputId": "dc4d348f-74f5-44c0-9e87-94c1b1357603"
      },
      "source": [
        "Tesla = web.DataReader('TSLA',data_source = 'yahoo', start = '2016-01-01', end = '2019-12-31') #Extract data from yahoo finance website for Tesla and S&P 500\n",
        "SP500 = web.DataReader('^GSPC',data_source = 'yahoo', start = '2016-01-01', end = '2019-12-31')\n",
        "\n",
        "#Check both lengths are same. If you pull data from different stock echanges, the length might be different depending on holidays\n",
        "print(len(Tesla['Open']))\n",
        "print(len(SP500['Open'])) \n",
        "\n",
        "#You may get any other  ticker by searching here https://finance.yahoo.com/quote/"
      ],
      "execution_count": null,
      "outputs": [
        {
          "output_type": "stream",
          "text": [
            "1006\n",
            "1006\n"
          ],
          "name": "stdout"
        }
      ]
    },
    {
      "cell_type": "code",
      "metadata": {
        "id": "_6JRp39zmAsa"
      },
      "source": [
        "SP500"
      ],
      "execution_count": null,
      "outputs": []
    },
    {
      "cell_type": "code",
      "metadata": {
        "id": "XRzcHJeMXRL-",
        "colab": {
          "base_uri": "https://localhost:8080/",
          "height": 282
        },
        "outputId": "e4fe1162-2d9c-4b72-e3a1-853b2c9d0358"
      },
      "source": [
        "L = len(Tesla['Open'])\n",
        "All_Data = np.concatenate((np.array(Tesla['Open']).reshape(L,1), np.array(Tesla['Close']).reshape(L,1), \n",
        "                           np.array(Tesla['High']).reshape(L,1), np.array(Tesla['Low']).reshape(L,1), np.array(Tesla['Volume']).reshape(L,1),\n",
        "                           np.array(SP500['Open']).reshape(L,1), np.array(SP500['Close']).reshape(L,1),\n",
        "                          np.array(SP500['High']).reshape(L,1), np.array(SP500['Low']).reshape(L,1), np.array(SP500['Volume']).reshape(L,1),), axis = 1)\n",
        "plt.plot(np.array(Tesla['Close'])*10, 'r')  #Displayed at 10 times the scale for better visualization\n",
        "plt.plot(np.array(SP500['Close']), 'b')"
      ],
      "execution_count": null,
      "outputs": [
        {
          "output_type": "execute_result",
          "data": {
            "text/plain": [
              "[<matplotlib.lines.Line2D at 0x7fc82ba4ad90>]"
            ]
          },
          "metadata": {
            "tags": []
          },
          "execution_count": 7
        },
        {
          "output_type": "display_data",
          "data": {
            "image/png": "[encoded data removed]",
            "text/plain": [
              "<Figure size 432x288 with 1 Axes>"
            ]
          },
          "metadata": {
            "tags": [],
            "needs_background": "light"
          }
        }
      ]
    },
    {
      "cell_type": "markdown",
      "metadata": {
        "id": "1lMiByseBCwb"
      },
      "source": [
        "Use sequences of 8 input arrays taken from All_Data. Each input will be of of length 50  (Last 50 days) and will be used to predict next five days. Try RNN, LSTM or GRU"
      ]
    },
    {
      "cell_type": "code",
      "metadata": {
        "id": "1-_gwBM4Aeo2",
        "colab": {
          "base_uri": "https://localhost:8080/"
        },
        "outputId": "cf82c505-dbde-49b3-f00d-e854dd839d0c"
      },
      "source": [
        "All_Data.shape"
      ],
      "execution_count": null,
      "outputs": [
        {
          "output_type": "execute_result",
          "data": {
            "text/plain": [
              "(1006, 10)"
            ]
          },
          "metadata": {
            "tags": []
          },
          "execution_count": 8
        }
      ]
    },
    {
      "cell_type": "code",
      "metadata": {
        "colab": {
          "base_uri": "https://localhost:8080/",
          "height": 431
        },
        "id": "6izTIP20o2ra",
        "outputId": "36f3bbb9-4f24-446b-f295-b82ea96841af"
      },
      "source": [
        "Tesla"
      ],
      "execution_count": null,
      "outputs": [
        {
          "output_type": "execute_result",
          "data": {
            "text/html": [
              "<div>\n",
              "<style scoped>\n",
              "    .dataframe tbody tr th:only-of-type {\n",
              "        vertical-align: middle;\n",
              "    }\n",
              "\n",
              "    .dataframe tbody tr th {\n",
              "        vertical-align: top;\n",
              "    }\n",
              "\n",
              "    .dataframe thead th {\n",
              "        text-align: right;\n",
              "    }\n",
              "</style>\n",
              "<table border=\"1\" class=\"dataframe\">\n",
              "  <thead>\n",
              "    <tr style=\"text-align: right;\">\n",
              "      <th></th>\n",
              "      <th>High</th>\n",
              "      <th>Low</th>\n",
              "      <th>Open</th>\n",
              "      <th>Close</th>\n",
              "      <th>Volume</th>\n",
              "      <th>Adj Close</th>\n",
              "    </tr>\n",
              "    <tr>\n",
              "      <th>Date</th>\n",
              "      <th></th>\n",
              "      <th></th>\n",
              "      <th></th>\n",
              "      <th></th>\n",
              "      <th></th>\n",
              "      <th></th>\n",
              "    </tr>\n",
              "  </thead>\n",
              "  <tbody>\n",
              "    <tr>\n",
              "      <th>2016-01-04</th>\n",
              "      <td>46.276001</td>\n",
              "      <td>43.799999</td>\n",
              "      <td>46.144001</td>\n",
              "      <td>44.681999</td>\n",
              "      <td>34135500</td>\n",
              "      <td>44.681999</td>\n",
              "    </tr>\n",
              "    <tr>\n",
              "      <th>2016-01-05</th>\n",
              "      <td>45.377998</td>\n",
              "      <td>44.000000</td>\n",
              "      <td>45.271999</td>\n",
              "      <td>44.686001</td>\n",
              "      <td>15934000</td>\n",
              "      <td>44.686001</td>\n",
              "    </tr>\n",
              "    <tr>\n",
              "      <th>2016-01-06</th>\n",
              "      <td>44.009998</td>\n",
              "      <td>43.195999</td>\n",
              "      <td>44.000000</td>\n",
              "      <td>43.807999</td>\n",
              "      <td>18895500</td>\n",
              "      <td>43.807999</td>\n",
              "    </tr>\n",
              "    <tr>\n",
              "      <th>2016-01-07</th>\n",
              "      <td>43.688000</td>\n",
              "      <td>42.734001</td>\n",
              "      <td>42.838001</td>\n",
              "      <td>43.130001</td>\n",
              "      <td>17771500</td>\n",
              "      <td>43.130001</td>\n",
              "    </tr>\n",
              "    <tr>\n",
              "      <th>2016-01-08</th>\n",
              "      <td>44.088001</td>\n",
              "      <td>42.153999</td>\n",
              "      <td>43.571999</td>\n",
              "      <td>42.200001</td>\n",
              "      <td>18140500</td>\n",
              "      <td>42.200001</td>\n",
              "    </tr>\n",
              "    <tr>\n",
              "      <th>...</th>\n",
              "      <td>...</td>\n",
              "      <td>...</td>\n",
              "      <td>...</td>\n",
              "      <td>...</td>\n",
              "      <td>...</td>\n",
              "      <td>...</td>\n",
              "    </tr>\n",
              "    <tr>\n",
              "      <th>2019-12-24</th>\n",
              "      <td>85.094002</td>\n",
              "      <td>82.538002</td>\n",
              "      <td>83.671997</td>\n",
              "      <td>85.050003</td>\n",
              "      <td>40273500</td>\n",
              "      <td>85.050003</td>\n",
              "    </tr>\n",
              "    <tr>\n",
              "      <th>2019-12-26</th>\n",
              "      <td>86.695999</td>\n",
              "      <td>85.269997</td>\n",
              "      <td>85.582001</td>\n",
              "      <td>86.188004</td>\n",
              "      <td>53169500</td>\n",
              "      <td>86.188004</td>\n",
              "    </tr>\n",
              "    <tr>\n",
              "      <th>2019-12-27</th>\n",
              "      <td>87.061996</td>\n",
              "      <td>85.222000</td>\n",
              "      <td>87.000000</td>\n",
              "      <td>86.075996</td>\n",
              "      <td>49728500</td>\n",
              "      <td>86.075996</td>\n",
              "    </tr>\n",
              "    <tr>\n",
              "      <th>2019-12-30</th>\n",
              "      <td>85.800003</td>\n",
              "      <td>81.851997</td>\n",
              "      <td>85.758003</td>\n",
              "      <td>82.940002</td>\n",
              "      <td>62932000</td>\n",
              "      <td>82.940002</td>\n",
              "    </tr>\n",
              "    <tr>\n",
              "      <th>2019-12-31</th>\n",
              "      <td>84.258003</td>\n",
              "      <td>80.416000</td>\n",
              "      <td>81.000000</td>\n",
              "      <td>83.666000</td>\n",
              "      <td>51428500</td>\n",
              "      <td>83.666000</td>\n",
              "    </tr>\n",
              "  </tbody>\n",
              "</table>\n",
              "<p>1006 rows × 6 columns</p>\n",
              "</div>"
            ],
            "text/plain": [
              "                 High        Low       Open      Close    Volume  Adj Close\n",
              "Date                                                                       \n",
              "2016-01-04  46.276001  43.799999  46.144001  44.681999  34135500  44.681999\n",
              "2016-01-05  45.377998  44.000000  45.271999  44.686001  15934000  44.686001\n",
              "2016-01-06  44.009998  43.195999  44.000000  43.807999  18895500  43.807999\n",
              "2016-01-07  43.688000  42.734001  42.838001  43.130001  17771500  43.130001\n",
              "2016-01-08  44.088001  42.153999  43.571999  42.200001  18140500  42.200001\n",
              "...               ...        ...        ...        ...       ...        ...\n",
              "2019-12-24  85.094002  82.538002  83.671997  85.050003  40273500  85.050003\n",
              "2019-12-26  86.695999  85.269997  85.582001  86.188004  53169500  86.188004\n",
              "2019-12-27  87.061996  85.222000  87.000000  86.075996  49728500  86.075996\n",
              "2019-12-30  85.800003  81.851997  85.758003  82.940002  62932000  82.940002\n",
              "2019-12-31  84.258003  80.416000  81.000000  83.666000  51428500  83.666000\n",
              "\n",
              "[1006 rows x 6 columns]"
            ]
          },
          "metadata": {
            "tags": []
          },
          "execution_count": 9
        }
      ]
    },
    {
      "cell_type": "code",
      "metadata": {
        "id": "RvqkeDTtqLvp"
      },
      "source": [
        "# Remove Volume feature\n",
        "features = [0,1,2,3,5,6,7,8]\n",
        "\n",
        "prev_data = []  #Data of previous 50 days\n",
        "pred_data = []  #Prediction for next 5 days\n",
        "\n",
        "for i in range(0,All_Data.shape[0]-55):\n",
        "      min = np.min(All_Data[i:i+50,features],axis = 0)\n",
        "      max = np.max(All_Data[i:i+50,features],axis = 0)\n",
        "      prev_data.append((All_Data[i:i+50,features]-min)/max)\n",
        "      pred_data.append((All_Data[i+50:i+55,1]-min[1])/max[1])\n",
        "\n",
        "# Convert list to numpy array\n",
        "prev_data = np.array(prev_data)\n",
        "pred_data = np.array(pred_data)"
      ],
      "execution_count": null,
      "outputs": []
    },
    {
      "cell_type": "code",
      "metadata": {
        "id": "xNuu4euauPbC"
      },
      "source": [
        "from sklearn.model_selection import train_test_split as tts\n",
        "X_train, X_test, y_train, y_test = tts(prev_data, pred_data, test_size=0.3)"
      ],
      "execution_count": null,
      "outputs": []
    },
    {
      "cell_type": "code",
      "metadata": {
        "colab": {
          "base_uri": "https://localhost:8080/"
        },
        "id": "KABh2659vgki",
        "outputId": "c17cd3b7-502f-4868-ea5a-4ad7bc4374b1"
      },
      "source": [
        "X_train.shape"
      ],
      "execution_count": null,
      "outputs": [
        {
          "output_type": "execute_result",
          "data": {
            "text/plain": [
              "(665, 50, 8)"
            ]
          },
          "metadata": {
            "tags": []
          },
          "execution_count": 12
        }
      ]
    },
    {
      "cell_type": "code",
      "metadata": {
        "colab": {
          "base_uri": "https://localhost:8080/"
        },
        "id": "5Qa5_hvkvwG1",
        "outputId": "e6c598d1-41f3-4e21-8a66-62ff24c6d1d7"
      },
      "source": [
        "y_train.shape"
      ],
      "execution_count": null,
      "outputs": [
        {
          "output_type": "execute_result",
          "data": {
            "text/plain": [
              "(665, 5)"
            ]
          },
          "metadata": {
            "tags": []
          },
          "execution_count": 13
        }
      ]
    },
    {
      "cell_type": "code",
      "metadata": {
        "colab": {
          "base_uri": "https://localhost:8080/"
        },
        "id": "1994AT87vyuW",
        "outputId": "75323c1a-1186-4980-8fdf-7e5174bf0cf4"
      },
      "source": [
        "X_test.shape"
      ],
      "execution_count": null,
      "outputs": [
        {
          "output_type": "execute_result",
          "data": {
            "text/plain": [
              "(286, 50, 8)"
            ]
          },
          "metadata": {
            "tags": []
          },
          "execution_count": 14
        }
      ]
    },
    {
      "cell_type": "code",
      "metadata": {
        "colab": {
          "base_uri": "https://localhost:8080/"
        },
        "id": "DXxPX5Uzv10L",
        "outputId": "7ed286e9-ee6f-42a9-f72b-14ee5bc07a3b"
      },
      "source": [
        "y_test.shape"
      ],
      "execution_count": null,
      "outputs": [
        {
          "output_type": "execute_result",
          "data": {
            "text/plain": [
              "(286, 5)"
            ]
          },
          "metadata": {
            "tags": []
          },
          "execution_count": 15
        }
      ]
    },
    {
      "cell_type": "markdown",
      "metadata": {
        "id": "q5XjdD-PusBB"
      },
      "source": [
        "RNN Model"
      ]
    },
    {
      "cell_type": "code",
      "metadata": {
        "colab": {
          "base_uri": "https://localhost:8080/"
        },
        "id": "gFwYEN8tuqfT",
        "outputId": "fb3e095c-7b8f-475d-8426-173fa6a8d432"
      },
      "source": [
        "model = Sequential()\n",
        "model.add(SimpleRNN((128),batch_input_shape = (None, 50,8), return_sequences = True))\n",
        "model.add(SimpleRNN((64), activation = 'relu', return_sequences = True))\n",
        "model.add(SimpleRNN((32), activation = 'relu', return_sequences = False))\n",
        "model.add(Dense(5,activation = 'relu'))\n",
        "model.compile(loss = 'mse',  optimizer = 'adam', metrics = ['mse'])\n",
        "model.summary()"
      ],
      "execution_count": null,
      "outputs": [
        {
          "output_type": "stream",
          "text": [
            "Model: \"sequential\"\n",
            "_________________________________________________________________\n",
            "Layer (type)                 Output Shape              Param #   \n",
            "=================================================================\n",
            "simple_rnn (SimpleRNN)       (None, 50, 128)           17536     \n",
            "_________________________________________________________________\n",
            "simple_rnn_1 (SimpleRNN)     (None, 50, 64)            12352     \n",
            "_________________________________________________________________\n",
            "simple_rnn_2 (SimpleRNN)     (None, 32)                3104      \n",
            "_________________________________________________________________\n",
            "dense (Dense)                (None, 5)                 165       \n",
            "=================================================================\n",
            "Total params: 33,157\n",
            "Trainable params: 33,157\n",
            "Non-trainable params: 0\n",
            "_________________________________________________________________\n"
          ],
          "name": "stdout"
        }
      ]
    },
    {
      "cell_type": "code",
      "metadata": {
        "colab": {
          "base_uri": "https://localhost:8080/"
        },
        "id": "q1rPJLpNu8_q",
        "outputId": "b2fa52e4-af55-40cd-c748-40f8abec0c68"
      },
      "source": [
        "history = model.fit(X_train, y_train, epochs = 150, validation_data = (X_test, y_test))"
      ],
      "execution_count": null,
      "outputs": [
        {
          "output_type": "stream",
          "text": [
            "Epoch 1/150\n",
            "21/21 [==============================] - 1s 42ms/step - loss: 1.6827e-04 - mse: 1.6827e-04 - val_loss: 0.0012 - val_mse: 0.0012\n",
            "Epoch 2/150\n",
            "21/21 [==============================] - 1s 43ms/step - loss: 1.6843e-04 - mse: 1.6843e-04 - val_loss: 0.0012 - val_mse: 0.0012\n",
            "Epoch 3/150\n",
            "21/21 [==============================] - 1s 43ms/step - loss: 1.7822e-04 - mse: 1.7822e-04 - val_loss: 0.0013 - val_mse: 0.0013\n",
            "Epoch 4/150\n",
            "21/21 [==============================] - 1s 43ms/step - loss: 2.0046e-04 - mse: 2.0046e-04 - val_loss: 0.0012 - val_mse: 0.0012\n",
            "Epoch 5/150\n",
            "21/21 [==============================] - 1s 42ms/step - loss: 2.3020e-04 - mse: 2.3020e-04 - val_loss: 0.0012 - val_mse: 0.0012\n",
            "Epoch 6/150\n",
            "21/21 [==============================] - 1s 43ms/step - loss: 2.0905e-04 - mse: 2.0905e-04 - val_loss: 0.0012 - val_mse: 0.0012\n",
            "Epoch 7/150\n",
            "21/21 [==============================] - 1s 43ms/step - loss: 1.9364e-04 - mse: 1.9364e-04 - val_loss: 0.0012 - val_mse: 0.0012\n",
            "Epoch 8/150\n",
            "21/21 [==============================] - 1s 42ms/step - loss: 1.9185e-04 - mse: 1.9185e-04 - val_loss: 0.0012 - val_mse: 0.0012\n",
            "Epoch 9/150\n",
            "21/21 [==============================] - 1s 42ms/step - loss: 2.1288e-04 - mse: 2.1288e-04 - val_loss: 0.0012 - val_mse: 0.0012\n",
            "Epoch 10/150\n",
            "21/21 [==============================] - 1s 43ms/step - loss: 2.6531e-04 - mse: 2.6531e-04 - val_loss: 0.0013 - val_mse: 0.0013\n",
            "Epoch 11/150\n",
            "21/21 [==============================] - 1s 43ms/step - loss: 3.0715e-04 - mse: 3.0715e-04 - val_loss: 0.0015 - val_mse: 0.0015\n",
            "Epoch 12/150\n",
            "21/21 [==============================] - 1s 44ms/step - loss: 3.4299e-04 - mse: 3.4299e-04 - val_loss: 0.0014 - val_mse: 0.0014\n",
            "Epoch 13/150\n",
            "21/21 [==============================] - 1s 43ms/step - loss: 3.5909e-04 - mse: 3.5909e-04 - val_loss: 0.0012 - val_mse: 0.0012\n",
            "Epoch 14/150\n",
            "21/21 [==============================] - 1s 42ms/step - loss: 4.7482e-04 - mse: 4.7482e-04 - val_loss: 0.0016 - val_mse: 0.0016\n",
            "Epoch 15/150\n",
            "21/21 [==============================] - 1s 43ms/step - loss: 5.8574e-04 - mse: 5.8574e-04 - val_loss: 0.0016 - val_mse: 0.0016\n",
            "Epoch 16/150\n",
            "21/21 [==============================] - 1s 43ms/step - loss: 5.8909e-04 - mse: 5.8909e-04 - val_loss: 0.0016 - val_mse: 0.0016\n",
            "Epoch 17/150\n",
            "21/21 [==============================] - 1s 42ms/step - loss: 5.8656e-04 - mse: 5.8656e-04 - val_loss: 0.0015 - val_mse: 0.0015\n",
            "Epoch 18/150\n",
            "21/21 [==============================] - 1s 43ms/step - loss: 6.5743e-04 - mse: 6.5743e-04 - val_loss: 0.0017 - val_mse: 0.0017\n",
            "Epoch 19/150\n",
            "21/21 [==============================] - 1s 43ms/step - loss: 6.8541e-04 - mse: 6.8541e-04 - val_loss: 0.0018 - val_mse: 0.0018\n",
            "Epoch 20/150\n",
            "21/21 [==============================] - 1s 44ms/step - loss: 8.8402e-04 - mse: 8.8402e-04 - val_loss: 0.0019 - val_mse: 0.0019\n",
            "Epoch 21/150\n",
            "21/21 [==============================] - 1s 43ms/step - loss: 9.6629e-04 - mse: 9.6629e-04 - val_loss: 0.0018 - val_mse: 0.0018\n",
            "Epoch 22/150\n",
            "21/21 [==============================] - 1s 43ms/step - loss: 0.0011 - mse: 0.0011 - val_loss: 0.0020 - val_mse: 0.0020\n",
            "Epoch 23/150\n",
            "21/21 [==============================] - 1s 43ms/step - loss: 0.0015 - mse: 0.0015 - val_loss: 0.0024 - val_mse: 0.0024\n",
            "Epoch 24/150\n",
            "21/21 [==============================] - 1s 43ms/step - loss: 0.0018 - mse: 0.0018 - val_loss: 0.0022 - val_mse: 0.0022\n",
            "Epoch 25/150\n",
            "21/21 [==============================] - 1s 43ms/step - loss: 0.0014 - mse: 0.0014 - val_loss: 0.0023 - val_mse: 0.0023\n",
            "Epoch 26/150\n",
            "21/21 [==============================] - 1s 42ms/step - loss: 0.0013 - mse: 0.0013 - val_loss: 0.0021 - val_mse: 0.0021\n",
            "Epoch 27/150\n",
            "21/21 [==============================] - 1s 43ms/step - loss: 0.0010 - mse: 0.0010 - val_loss: 0.0021 - val_mse: 0.0021\n",
            "Epoch 28/150\n",
            "21/21 [==============================] - 1s 43ms/step - loss: 9.4342e-04 - mse: 9.4342e-04 - val_loss: 0.0019 - val_mse: 0.0019\n",
            "Epoch 29/150\n",
            "21/21 [==============================] - 1s 45ms/step - loss: 8.5730e-04 - mse: 8.5730e-04 - val_loss: 0.0018 - val_mse: 0.0018\n",
            "Epoch 30/150\n",
            "21/21 [==============================] - 1s 42ms/step - loss: 7.3040e-04 - mse: 7.3040e-04 - val_loss: 0.0017 - val_mse: 0.0017\n",
            "Epoch 31/150\n",
            "21/21 [==============================] - 1s 42ms/step - loss: 6.4574e-04 - mse: 6.4574e-04 - val_loss: 0.0016 - val_mse: 0.0016\n",
            "Epoch 32/150\n",
            "21/21 [==============================] - 1s 42ms/step - loss: 6.5543e-04 - mse: 6.5543e-04 - val_loss: 0.0015 - val_mse: 0.0015\n",
            "Epoch 33/150\n",
            "21/21 [==============================] - 1s 44ms/step - loss: 6.3632e-04 - mse: 6.3632e-04 - val_loss: 0.0016 - val_mse: 0.0016\n",
            "Epoch 34/150\n",
            "21/21 [==============================] - 1s 42ms/step - loss: 5.4073e-04 - mse: 5.4073e-04 - val_loss: 0.0014 - val_mse: 0.0014\n",
            "Epoch 35/150\n",
            "21/21 [==============================] - 1s 43ms/step - loss: 4.0591e-04 - mse: 4.0591e-04 - val_loss: 0.0014 - val_mse: 0.0014\n",
            "Epoch 36/150\n",
            "21/21 [==============================] - 1s 42ms/step - loss: 3.9644e-04 - mse: 3.9644e-04 - val_loss: 0.0014 - val_mse: 0.0014\n",
            "Epoch 37/150\n",
            "21/21 [==============================] - 1s 43ms/step - loss: 3.9542e-04 - mse: 3.9542e-04 - val_loss: 0.0012 - val_mse: 0.0012\n",
            "Epoch 38/150\n",
            "21/21 [==============================] - 1s 42ms/step - loss: 3.4163e-04 - mse: 3.4163e-04 - val_loss: 0.0012 - val_mse: 0.0012\n",
            "Epoch 39/150\n",
            "21/21 [==============================] - 1s 42ms/step - loss: 3.1559e-04 - mse: 3.1559e-04 - val_loss: 0.0013 - val_mse: 0.0013\n",
            "Epoch 40/150\n",
            "21/21 [==============================] - 1s 43ms/step - loss: 2.9927e-04 - mse: 2.9927e-04 - val_loss: 0.0012 - val_mse: 0.0012\n",
            "Epoch 41/150\n",
            "21/21 [==============================] - 1s 42ms/step - loss: 2.8099e-04 - mse: 2.8099e-04 - val_loss: 0.0012 - val_mse: 0.0012\n",
            "Epoch 42/150\n",
            "21/21 [==============================] - 1s 43ms/step - loss: 2.6900e-04 - mse: 2.6900e-04 - val_loss: 0.0012 - val_mse: 0.0012\n",
            "Epoch 43/150\n",
            "21/21 [==============================] - 1s 43ms/step - loss: 2.5401e-04 - mse: 2.5401e-04 - val_loss: 0.0012 - val_mse: 0.0012\n",
            "Epoch 44/150\n",
            "21/21 [==============================] - 1s 42ms/step - loss: 2.5109e-04 - mse: 2.5109e-04 - val_loss: 0.0013 - val_mse: 0.0013\n",
            "Epoch 45/150\n",
            "21/21 [==============================] - 1s 42ms/step - loss: 2.4158e-04 - mse: 2.4158e-04 - val_loss: 0.0012 - val_mse: 0.0012\n",
            "Epoch 46/150\n",
            "21/21 [==============================] - 1s 43ms/step - loss: 2.5761e-04 - mse: 2.5761e-04 - val_loss: 0.0013 - val_mse: 0.0013\n",
            "Epoch 47/150\n",
            "21/21 [==============================] - 1s 44ms/step - loss: 2.7678e-04 - mse: 2.7678e-04 - val_loss: 0.0012 - val_mse: 0.0012\n",
            "Epoch 48/150\n",
            "21/21 [==============================] - 1s 43ms/step - loss: 2.6606e-04 - mse: 2.6606e-04 - val_loss: 0.0012 - val_mse: 0.0012\n",
            "Epoch 49/150\n",
            "21/21 [==============================] - 1s 43ms/step - loss: 2.4032e-04 - mse: 2.4032e-04 - val_loss: 0.0012 - val_mse: 0.0012\n",
            "Epoch 50/150\n",
            "21/21 [==============================] - 1s 43ms/step - loss: 2.3616e-04 - mse: 2.3616e-04 - val_loss: 0.0012 - val_mse: 0.0012\n",
            "Epoch 51/150\n",
            "21/21 [==============================] - 1s 43ms/step - loss: 2.0801e-04 - mse: 2.0801e-04 - val_loss: 0.0011 - val_mse: 0.0011\n",
            "Epoch 52/150\n",
            "21/21 [==============================] - 1s 45ms/step - loss: 1.9522e-04 - mse: 1.9522e-04 - val_loss: 0.0012 - val_mse: 0.0012\n",
            "Epoch 53/150\n",
            "21/21 [==============================] - 1s 44ms/step - loss: 1.9158e-04 - mse: 1.9158e-04 - val_loss: 0.0012 - val_mse: 0.0012\n",
            "Epoch 54/150\n",
            "21/21 [==============================] - 1s 42ms/step - loss: 1.9021e-04 - mse: 1.9021e-04 - val_loss: 0.0012 - val_mse: 0.0012\n",
            "Epoch 55/150\n",
            "21/21 [==============================] - 1s 43ms/step - loss: 1.9328e-04 - mse: 1.9328e-04 - val_loss: 0.0012 - val_mse: 0.0012\n",
            "Epoch 56/150\n",
            "21/21 [==============================] - 1s 43ms/step - loss: 1.8794e-04 - mse: 1.8794e-04 - val_loss: 0.0011 - val_mse: 0.0011\n",
            "Epoch 57/150\n",
            "21/21 [==============================] - 1s 44ms/step - loss: 1.8430e-04 - mse: 1.8430e-04 - val_loss: 0.0012 - val_mse: 0.0012\n",
            "Epoch 58/150\n",
            "21/21 [==============================] - 1s 44ms/step - loss: 1.9325e-04 - mse: 1.9325e-04 - val_loss: 0.0012 - val_mse: 0.0012\n",
            "Epoch 59/150\n",
            "21/21 [==============================] - 1s 43ms/step - loss: 1.9509e-04 - mse: 1.9509e-04 - val_loss: 0.0011 - val_mse: 0.0011\n",
            "Epoch 60/150\n",
            "21/21 [==============================] - 1s 43ms/step - loss: 1.9382e-04 - mse: 1.9382e-04 - val_loss: 0.0012 - val_mse: 0.0012\n",
            "Epoch 61/150\n",
            "21/21 [==============================] - 1s 43ms/step - loss: 1.9548e-04 - mse: 1.9548e-04 - val_loss: 0.0011 - val_mse: 0.0011\n",
            "Epoch 62/150\n",
            "21/21 [==============================] - 1s 43ms/step - loss: 1.8745e-04 - mse: 1.8745e-04 - val_loss: 0.0012 - val_mse: 0.0012\n",
            "Epoch 63/150\n",
            "21/21 [==============================] - 1s 43ms/step - loss: 1.8819e-04 - mse: 1.8819e-04 - val_loss: 0.0011 - val_mse: 0.0011\n",
            "Epoch 64/150\n",
            "21/21 [==============================] - 1s 43ms/step - loss: 1.8914e-04 - mse: 1.8914e-04 - val_loss: 0.0011 - val_mse: 0.0011\n",
            "Epoch 65/150\n",
            "21/21 [==============================] - 1s 42ms/step - loss: 1.8982e-04 - mse: 1.8982e-04 - val_loss: 0.0011 - val_mse: 0.0011\n",
            "Epoch 66/150\n",
            "21/21 [==============================] - 1s 43ms/step - loss: 1.9548e-04 - mse: 1.9548e-04 - val_loss: 0.0012 - val_mse: 0.0012\n",
            "Epoch 67/150\n",
            "21/21 [==============================] - 1s 43ms/step - loss: 2.0636e-04 - mse: 2.0636e-04 - val_loss: 0.0010 - val_mse: 0.0010\n",
            "Epoch 68/150\n",
            "21/21 [==============================] - 1s 44ms/step - loss: 1.9312e-04 - mse: 1.9312e-04 - val_loss: 0.0012 - val_mse: 0.0012\n",
            "Epoch 69/150\n",
            "21/21 [==============================] - 1s 43ms/step - loss: 1.8567e-04 - mse: 1.8567e-04 - val_loss: 0.0012 - val_mse: 0.0012\n",
            "Epoch 70/150\n",
            "21/21 [==============================] - 1s 44ms/step - loss: 1.7682e-04 - mse: 1.7682e-04 - val_loss: 0.0011 - val_mse: 0.0011\n",
            "Epoch 71/150\n",
            "21/21 [==============================] - 1s 43ms/step - loss: 1.7655e-04 - mse: 1.7655e-04 - val_loss: 0.0011 - val_mse: 0.0011\n",
            "Epoch 72/150\n",
            "21/21 [==============================] - 1s 43ms/step - loss: 1.7816e-04 - mse: 1.7816e-04 - val_loss: 0.0012 - val_mse: 0.0012\n",
            "Epoch 73/150\n",
            "21/21 [==============================] - 1s 44ms/step - loss: 1.8371e-04 - mse: 1.8371e-04 - val_loss: 0.0011 - val_mse: 0.0011\n",
            "Epoch 74/150\n",
            "21/21 [==============================] - 1s 43ms/step - loss: 1.9292e-04 - mse: 1.9292e-04 - val_loss: 0.0011 - val_mse: 0.0011\n",
            "Epoch 75/150\n",
            "21/21 [==============================] - 1s 43ms/step - loss: 1.9718e-04 - mse: 1.9718e-04 - val_loss: 0.0011 - val_mse: 0.0011\n",
            "Epoch 76/150\n",
            "21/21 [==============================] - 1s 43ms/step - loss: 2.1109e-04 - mse: 2.1109e-04 - val_loss: 0.0012 - val_mse: 0.0012\n",
            "Epoch 77/150\n",
            "21/21 [==============================] - 1s 45ms/step - loss: 2.0426e-04 - mse: 2.0426e-04 - val_loss: 0.0012 - val_mse: 0.0012\n",
            "Epoch 78/150\n",
            "21/21 [==============================] - 1s 42ms/step - loss: 2.0552e-04 - mse: 2.0552e-04 - val_loss: 0.0011 - val_mse: 0.0011\n",
            "Epoch 79/150\n",
            "21/21 [==============================] - 1s 44ms/step - loss: 1.9772e-04 - mse: 1.9772e-04 - val_loss: 0.0012 - val_mse: 0.0012\n",
            "Epoch 80/150\n",
            "21/21 [==============================] - 1s 42ms/step - loss: 1.9167e-04 - mse: 1.9167e-04 - val_loss: 0.0011 - val_mse: 0.0011\n",
            "Epoch 81/150\n",
            "21/21 [==============================] - 1s 44ms/step - loss: 1.8623e-04 - mse: 1.8623e-04 - val_loss: 0.0011 - val_mse: 0.0011\n",
            "Epoch 82/150\n",
            "21/21 [==============================] - 1s 43ms/step - loss: 1.8562e-04 - mse: 1.8562e-04 - val_loss: 0.0011 - val_mse: 0.0011\n",
            "Epoch 83/150\n",
            "21/21 [==============================] - 1s 43ms/step - loss: 1.9418e-04 - mse: 1.9418e-04 - val_loss: 0.0011 - val_mse: 0.0011\n",
            "Epoch 84/150\n",
            "21/21 [==============================] - 1s 43ms/step - loss: 1.8511e-04 - mse: 1.8511e-04 - val_loss: 0.0011 - val_mse: 0.0011\n",
            "Epoch 85/150\n",
            "21/21 [==============================] - 1s 43ms/step - loss: 1.8780e-04 - mse: 1.8780e-04 - val_loss: 0.0011 - val_mse: 0.0011\n",
            "Epoch 86/150\n",
            "21/21 [==============================] - 1s 44ms/step - loss: 1.8133e-04 - mse: 1.8133e-04 - val_loss: 0.0011 - val_mse: 0.0011\n",
            "Epoch 87/150\n",
            "21/21 [==============================] - 1s 43ms/step - loss: 1.7455e-04 - mse: 1.7455e-04 - val_loss: 0.0011 - val_mse: 0.0011\n",
            "Epoch 88/150\n",
            "21/21 [==============================] - 1s 43ms/step - loss: 1.8645e-04 - mse: 1.8645e-04 - val_loss: 0.0011 - val_mse: 0.0011\n",
            "Epoch 89/150\n",
            "21/21 [==============================] - 1s 42ms/step - loss: 1.7409e-04 - mse: 1.7409e-04 - val_loss: 0.0010 - val_mse: 0.0010\n",
            "Epoch 90/150\n",
            "21/21 [==============================] - 1s 43ms/step - loss: 1.7586e-04 - mse: 1.7586e-04 - val_loss: 0.0011 - val_mse: 0.0011\n",
            "Epoch 91/150\n",
            "21/21 [==============================] - 1s 43ms/step - loss: 1.7911e-04 - mse: 1.7911e-04 - val_loss: 0.0011 - val_mse: 0.0011\n",
            "Epoch 92/150\n",
            "21/21 [==============================] - 1s 43ms/step - loss: 1.8579e-04 - mse: 1.8579e-04 - val_loss: 0.0011 - val_mse: 0.0011\n",
            "Epoch 93/150\n",
            "21/21 [==============================] - 1s 44ms/step - loss: 1.9871e-04 - mse: 1.9871e-04 - val_loss: 0.0011 - val_mse: 0.0011\n",
            "Epoch 94/150\n",
            "21/21 [==============================] - 1s 44ms/step - loss: 1.8399e-04 - mse: 1.8399e-04 - val_loss: 0.0011 - val_mse: 0.0011\n",
            "Epoch 95/150\n",
            "21/21 [==============================] - 1s 43ms/step - loss: 1.8142e-04 - mse: 1.8142e-04 - val_loss: 0.0011 - val_mse: 0.0011\n",
            "Epoch 96/150\n",
            "21/21 [==============================] - 1s 44ms/step - loss: 1.8094e-04 - mse: 1.8094e-04 - val_loss: 0.0011 - val_mse: 0.0011\n",
            "Epoch 97/150\n",
            "21/21 [==============================] - 1s 43ms/step - loss: 1.7371e-04 - mse: 1.7371e-04 - val_loss: 0.0011 - val_mse: 0.0011\n",
            "Epoch 98/150\n",
            "21/21 [==============================] - 1s 44ms/step - loss: 1.9101e-04 - mse: 1.9101e-04 - val_loss: 0.0010 - val_mse: 0.0010\n",
            "Epoch 99/150\n",
            "21/21 [==============================] - 1s 44ms/step - loss: 1.9051e-04 - mse: 1.9051e-04 - val_loss: 0.0011 - val_mse: 0.0011\n",
            "Epoch 100/150\n",
            "21/21 [==============================] - 1s 45ms/step - loss: 1.8994e-04 - mse: 1.8994e-04 - val_loss: 0.0011 - val_mse: 0.0011\n",
            "Epoch 101/150\n",
            "21/21 [==============================] - 1s 44ms/step - loss: 1.8688e-04 - mse: 1.8688e-04 - val_loss: 0.0011 - val_mse: 0.0011\n",
            "Epoch 102/150\n",
            "21/21 [==============================] - 1s 43ms/step - loss: 2.1103e-04 - mse: 2.1103e-04 - val_loss: 0.0011 - val_mse: 0.0011\n",
            "Epoch 103/150\n",
            "21/21 [==============================] - 1s 44ms/step - loss: 2.1706e-04 - mse: 2.1706e-04 - val_loss: 0.0012 - val_mse: 0.0012\n",
            "Epoch 104/150\n",
            "21/21 [==============================] - 1s 45ms/step - loss: 2.3893e-04 - mse: 2.3893e-04 - val_loss: 0.0011 - val_mse: 0.0011\n",
            "Epoch 105/150\n",
            "21/21 [==============================] - 1s 43ms/step - loss: 3.0893e-04 - mse: 3.0893e-04 - val_loss: 0.0012 - val_mse: 0.0012\n",
            "Epoch 106/150\n",
            "21/21 [==============================] - 1s 43ms/step - loss: 3.2752e-04 - mse: 3.2752e-04 - val_loss: 0.0012 - val_mse: 0.0012\n",
            "Epoch 107/150\n",
            "21/21 [==============================] - 1s 44ms/step - loss: 3.3497e-04 - mse: 3.3497e-04 - val_loss: 0.0012 - val_mse: 0.0012\n",
            "Epoch 108/150\n",
            "21/21 [==============================] - 1s 43ms/step - loss: 3.4649e-04 - mse: 3.4649e-04 - val_loss: 0.0015 - val_mse: 0.0015\n",
            "Epoch 109/150\n",
            "21/21 [==============================] - 1s 44ms/step - loss: 4.3369e-04 - mse: 4.3369e-04 - val_loss: 0.0012 - val_mse: 0.0012\n",
            "Epoch 110/150\n",
            "21/21 [==============================] - 1s 42ms/step - loss: 4.5251e-04 - mse: 4.5251e-04 - val_loss: 0.0013 - val_mse: 0.0013\n",
            "Epoch 111/150\n",
            "21/21 [==============================] - 1s 45ms/step - loss: 6.1705e-04 - mse: 6.1705e-04 - val_loss: 0.0016 - val_mse: 0.0016\n",
            "Epoch 112/150\n",
            "21/21 [==============================] - 1s 44ms/step - loss: 8.4570e-04 - mse: 8.4570e-04 - val_loss: 0.0020 - val_mse: 0.0020\n",
            "Epoch 113/150\n",
            "21/21 [==============================] - 1s 43ms/step - loss: 0.0011 - mse: 0.0011 - val_loss: 0.0021 - val_mse: 0.0021\n",
            "Epoch 114/150\n",
            "21/21 [==============================] - 1s 43ms/step - loss: 0.0011 - mse: 0.0011 - val_loss: 0.0019 - val_mse: 0.0019\n",
            "Epoch 115/150\n",
            "21/21 [==============================] - 1s 43ms/step - loss: 0.0012 - mse: 0.0012 - val_loss: 0.0028 - val_mse: 0.0028\n",
            "Epoch 116/150\n",
            "21/21 [==============================] - 1s 45ms/step - loss: 0.0011 - mse: 0.0011 - val_loss: 0.0020 - val_mse: 0.0020\n",
            "Epoch 117/150\n",
            "21/21 [==============================] - 1s 44ms/step - loss: 9.0786e-04 - mse: 9.0786e-04 - val_loss: 0.0018 - val_mse: 0.0018\n",
            "Epoch 118/150\n",
            "21/21 [==============================] - 1s 44ms/step - loss: 9.1858e-04 - mse: 9.1858e-04 - val_loss: 0.0016 - val_mse: 0.0016\n",
            "Epoch 119/150\n",
            "21/21 [==============================] - 1s 43ms/step - loss: 7.2112e-04 - mse: 7.2112e-04 - val_loss: 0.0016 - val_mse: 0.0016\n",
            "Epoch 120/150\n",
            "21/21 [==============================] - 1s 43ms/step - loss: 6.0113e-04 - mse: 6.0113e-04 - val_loss: 0.0015 - val_mse: 0.0015\n",
            "Epoch 121/150\n",
            "21/21 [==============================] - 1s 44ms/step - loss: 4.8312e-04 - mse: 4.8312e-04 - val_loss: 0.0013 - val_mse: 0.0013\n",
            "Epoch 122/150\n",
            "21/21 [==============================] - 1s 44ms/step - loss: 4.4907e-04 - mse: 4.4907e-04 - val_loss: 0.0014 - val_mse: 0.0014\n",
            "Epoch 123/150\n",
            "21/21 [==============================] - 1s 44ms/step - loss: 4.5506e-04 - mse: 4.5506e-04 - val_loss: 0.0012 - val_mse: 0.0012\n",
            "Epoch 124/150\n",
            "21/21 [==============================] - 1s 43ms/step - loss: 4.1590e-04 - mse: 4.1590e-04 - val_loss: 0.0014 - val_mse: 0.0014\n",
            "Epoch 125/150\n",
            "21/21 [==============================] - 1s 44ms/step - loss: 3.8136e-04 - mse: 3.8136e-04 - val_loss: 0.0012 - val_mse: 0.0012\n",
            "Epoch 126/150\n",
            "21/21 [==============================] - 1s 44ms/step - loss: 3.4597e-04 - mse: 3.4597e-04 - val_loss: 0.0012 - val_mse: 0.0012\n",
            "Epoch 127/150\n",
            "21/21 [==============================] - 1s 44ms/step - loss: 3.0578e-04 - mse: 3.0578e-04 - val_loss: 0.0011 - val_mse: 0.0011\n",
            "Epoch 128/150\n",
            "21/21 [==============================] - 1s 43ms/step - loss: 2.7189e-04 - mse: 2.7189e-04 - val_loss: 0.0010 - val_mse: 0.0010\n",
            "Epoch 129/150\n",
            "21/21 [==============================] - 1s 44ms/step - loss: 2.4578e-04 - mse: 2.4578e-04 - val_loss: 0.0011 - val_mse: 0.0011\n",
            "Epoch 130/150\n",
            "21/21 [==============================] - 1s 45ms/step - loss: 2.2806e-04 - mse: 2.2806e-04 - val_loss: 0.0011 - val_mse: 0.0011\n",
            "Epoch 131/150\n",
            "21/21 [==============================] - 1s 44ms/step - loss: 2.0644e-04 - mse: 2.0644e-04 - val_loss: 0.0010 - val_mse: 0.0010\n",
            "Epoch 132/150\n",
            "21/21 [==============================] - 1s 43ms/step - loss: 2.0077e-04 - mse: 2.0077e-04 - val_loss: 0.0010 - val_mse: 0.0010\n",
            "Epoch 133/150\n",
            "21/21 [==============================] - 1s 43ms/step - loss: 1.8866e-04 - mse: 1.8866e-04 - val_loss: 0.0010 - val_mse: 0.0010\n",
            "Epoch 134/150\n",
            "21/21 [==============================] - 1s 44ms/step - loss: 1.7364e-04 - mse: 1.7364e-04 - val_loss: 0.0010 - val_mse: 0.0010\n",
            "Epoch 135/150\n",
            "21/21 [==============================] - 1s 45ms/step - loss: 1.7590e-04 - mse: 1.7590e-04 - val_loss: 0.0010 - val_mse: 0.0010\n",
            "Epoch 136/150\n",
            "21/21 [==============================] - 1s 45ms/step - loss: 1.7132e-04 - mse: 1.7132e-04 - val_loss: 0.0010 - val_mse: 0.0010\n",
            "Epoch 137/150\n",
            "21/21 [==============================] - 1s 44ms/step - loss: 1.6413e-04 - mse: 1.6413e-04 - val_loss: 0.0010 - val_mse: 0.0010\n",
            "Epoch 138/150\n",
            "21/21 [==============================] - 1s 45ms/step - loss: 1.6488e-04 - mse: 1.6488e-04 - val_loss: 0.0010 - val_mse: 0.0010\n",
            "Epoch 139/150\n",
            "21/21 [==============================] - 1s 44ms/step - loss: 1.5780e-04 - mse: 1.5780e-04 - val_loss: 9.7832e-04 - val_mse: 9.7832e-04\n",
            "Epoch 140/150\n",
            "21/21 [==============================] - 1s 45ms/step - loss: 1.5311e-04 - mse: 1.5311e-04 - val_loss: 0.0010 - val_mse: 0.0010\n",
            "Epoch 141/150\n",
            "21/21 [==============================] - 1s 44ms/step - loss: 1.5241e-04 - mse: 1.5241e-04 - val_loss: 9.9167e-04 - val_mse: 9.9167e-04\n",
            "Epoch 142/150\n",
            "21/21 [==============================] - 1s 44ms/step - loss: 1.4856e-04 - mse: 1.4856e-04 - val_loss: 9.9594e-04 - val_mse: 9.9594e-04\n",
            "Epoch 143/150\n",
            "21/21 [==============================] - 1s 44ms/step - loss: 1.4569e-04 - mse: 1.4569e-04 - val_loss: 9.8521e-04 - val_mse: 9.8521e-04\n",
            "Epoch 144/150\n",
            "21/21 [==============================] - 1s 44ms/step - loss: 1.4177e-04 - mse: 1.4177e-04 - val_loss: 9.5250e-04 - val_mse: 9.5250e-04\n",
            "Epoch 145/150\n",
            "21/21 [==============================] - 1s 44ms/step - loss: 1.3933e-04 - mse: 1.3933e-04 - val_loss: 9.7907e-04 - val_mse: 9.7907e-04\n",
            "Epoch 146/150\n",
            "21/21 [==============================] - 1s 44ms/step - loss: 1.3629e-04 - mse: 1.3629e-04 - val_loss: 9.5756e-04 - val_mse: 9.5756e-04\n",
            "Epoch 147/150\n",
            "21/21 [==============================] - 1s 45ms/step - loss: 1.3619e-04 - mse: 1.3619e-04 - val_loss: 9.6644e-04 - val_mse: 9.6644e-04\n",
            "Epoch 148/150\n",
            "21/21 [==============================] - 1s 43ms/step - loss: 1.3632e-04 - mse: 1.3632e-04 - val_loss: 9.6344e-04 - val_mse: 9.6344e-04\n",
            "Epoch 149/150\n",
            "21/21 [==============================] - 1s 44ms/step - loss: 1.3458e-04 - mse: 1.3458e-04 - val_loss: 9.6850e-04 - val_mse: 9.6850e-04\n",
            "Epoch 150/150\n",
            "21/21 [==============================] - 1s 45ms/step - loss: 1.4138e-04 - mse: 1.4138e-04 - val_loss: 9.8576e-04 - val_mse: 9.8576e-04\n"
          ],
          "name": "stdout"
        }
      ]
    },
    {
      "cell_type": "code",
      "metadata": {
        "colab": {
          "base_uri": "https://localhost:8080/",
          "height": 328
        },
        "id": "mS0scd8yxPKe",
        "outputId": "678d773b-1baf-4b2f-c0fc-fa5bae11d326"
      },
      "source": [
        "# Plot loss vs iterations\n",
        "plt.figure(None,(20,5))\n",
        "plt.plot(history.history['loss'])\n",
        "plt.xlabel('Iterations')\n",
        "plt.ylabel('Validation Loss')\n",
        "plt.title('Validation Loss vs No of Iterations:')\n",
        "plt.xticks(np.arange(0, 150, 10))\n",
        "\n",
        "plt.show()"
      ],
      "execution_count": null,
      "outputs": [
        {
          "output_type": "display_data",
          "data": {
            "image/png": "[encoded data removed]",
            "text/plain": [
              "<Figure size 1440x360 with 1 Axes>"
            ]
          },
          "metadata": {
            "tags": [],
            "needs_background": "light"
          }
        }
      ]
    },
    {
      "cell_type": "markdown",
      "metadata": {
        "id": "HbbHE0bUyiBR"
      },
      "source": [
        "Val loss is increasing after approx 90 epochs, hence set epochs to 90"
      ]
    },
    {
      "cell_type": "code",
      "metadata": {
        "colab": {
          "base_uri": "https://localhost:8080/"
        },
        "id": "Bvz42Va0zbDO",
        "outputId": "d54b7ba9-6d56-477e-c0e2-bccf13fa435a"
      },
      "source": [
        "history = model.fit(X_train, y_train, epochs = 90, validation_data = (X_test, y_test))"
      ],
      "execution_count": null,
      "outputs": [
        {
          "output_type": "stream",
          "text": [
            "Epoch 1/90\n",
            "21/21 [==============================] - 1s 45ms/step - loss: 1.5203e-04 - mse: 1.5203e-04 - val_loss: 0.0010 - val_mse: 0.0010\n",
            "Epoch 2/90\n",
            "21/21 [==============================] - 1s 42ms/step - loss: 1.6170e-04 - mse: 1.6170e-04 - val_loss: 9.8078e-04 - val_mse: 9.8078e-04\n",
            "Epoch 3/90\n",
            "21/21 [==============================] - 1s 41ms/step - loss: 1.5981e-04 - mse: 1.5981e-04 - val_loss: 0.0010 - val_mse: 0.0010\n",
            "Epoch 4/90\n",
            "21/21 [==============================] - 1s 40ms/step - loss: 1.6524e-04 - mse: 1.6524e-04 - val_loss: 9.6731e-04 - val_mse: 9.6731e-04\n",
            "Epoch 5/90\n",
            "21/21 [==============================] - 1s 40ms/step - loss: 1.5646e-04 - mse: 1.5646e-04 - val_loss: 9.5055e-04 - val_mse: 9.5055e-04\n",
            "Epoch 6/90\n",
            "21/21 [==============================] - 1s 41ms/step - loss: 1.5819e-04 - mse: 1.5819e-04 - val_loss: 9.6518e-04 - val_mse: 9.6518e-04\n",
            "Epoch 7/90\n",
            "21/21 [==============================] - 1s 42ms/step - loss: 1.5359e-04 - mse: 1.5359e-04 - val_loss: 9.9276e-04 - val_mse: 9.9276e-04\n",
            "Epoch 8/90\n",
            "21/21 [==============================] - 1s 42ms/step - loss: 1.5288e-04 - mse: 1.5288e-04 - val_loss: 9.5479e-04 - val_mse: 9.5479e-04\n",
            "Epoch 9/90\n",
            "21/21 [==============================] - 1s 41ms/step - loss: 1.5359e-04 - mse: 1.5359e-04 - val_loss: 9.6410e-04 - val_mse: 9.6410e-04\n",
            "Epoch 10/90\n",
            "21/21 [==============================] - 1s 41ms/step - loss: 1.5662e-04 - mse: 1.5662e-04 - val_loss: 9.8196e-04 - val_mse: 9.8196e-04\n",
            "Epoch 11/90\n",
            "21/21 [==============================] - 1s 41ms/step - loss: 1.5385e-04 - mse: 1.5385e-04 - val_loss: 0.0010 - val_mse: 0.0010\n",
            "Epoch 12/90\n",
            "21/21 [==============================] - 1s 41ms/step - loss: 1.7003e-04 - mse: 1.7003e-04 - val_loss: 9.9395e-04 - val_mse: 9.9395e-04\n",
            "Epoch 13/90\n",
            "21/21 [==============================] - 1s 43ms/step - loss: 1.8919e-04 - mse: 1.8919e-04 - val_loss: 9.7422e-04 - val_mse: 9.7422e-04\n",
            "Epoch 14/90\n",
            "21/21 [==============================] - 1s 41ms/step - loss: 1.9624e-04 - mse: 1.9624e-04 - val_loss: 0.0010 - val_mse: 0.0010\n",
            "Epoch 15/90\n",
            "21/21 [==============================] - 1s 41ms/step - loss: 2.0978e-04 - mse: 2.0978e-04 - val_loss: 0.0010 - val_mse: 0.0010\n",
            "Epoch 16/90\n",
            "21/21 [==============================] - 1s 41ms/step - loss: 2.2545e-04 - mse: 2.2545e-04 - val_loss: 0.0010 - val_mse: 0.0010\n",
            "Epoch 17/90\n",
            "21/21 [==============================] - 1s 41ms/step - loss: 2.2253e-04 - mse: 2.2253e-04 - val_loss: 9.9450e-04 - val_mse: 9.9450e-04\n",
            "Epoch 18/90\n",
            "21/21 [==============================] - 1s 42ms/step - loss: 2.0723e-04 - mse: 2.0723e-04 - val_loss: 9.2987e-04 - val_mse: 9.2987e-04\n",
            "Epoch 19/90\n",
            "21/21 [==============================] - 1s 41ms/step - loss: 1.9053e-04 - mse: 1.9053e-04 - val_loss: 0.0010 - val_mse: 0.0010\n",
            "Epoch 20/90\n",
            "21/21 [==============================] - 1s 42ms/step - loss: 2.3173e-04 - mse: 2.3173e-04 - val_loss: 0.0011 - val_mse: 0.0011\n",
            "Epoch 21/90\n",
            "21/21 [==============================] - 1s 40ms/step - loss: 2.4490e-04 - mse: 2.4490e-04 - val_loss: 0.0011 - val_mse: 0.0011\n",
            "Epoch 22/90\n",
            "21/21 [==============================] - 1s 41ms/step - loss: 2.1819e-04 - mse: 2.1819e-04 - val_loss: 0.0010 - val_mse: 0.0010\n",
            "Epoch 23/90\n",
            "21/21 [==============================] - 1s 41ms/step - loss: 2.2191e-04 - mse: 2.2191e-04 - val_loss: 9.8209e-04 - val_mse: 9.8209e-04\n",
            "Epoch 24/90\n",
            "21/21 [==============================] - 1s 42ms/step - loss: 2.3433e-04 - mse: 2.3433e-04 - val_loss: 0.0010 - val_mse: 0.0010\n",
            "Epoch 25/90\n",
            "21/21 [==============================] - 1s 42ms/step - loss: 2.4603e-04 - mse: 2.4603e-04 - val_loss: 0.0011 - val_mse: 0.0011\n",
            "Epoch 26/90\n",
            "21/21 [==============================] - 1s 42ms/step - loss: 2.5459e-04 - mse: 2.5459e-04 - val_loss: 0.0011 - val_mse: 0.0011\n",
            "Epoch 27/90\n",
            "21/21 [==============================] - 1s 41ms/step - loss: 2.3797e-04 - mse: 2.3797e-04 - val_loss: 0.0011 - val_mse: 0.0011\n",
            "Epoch 28/90\n",
            "21/21 [==============================] - 1s 41ms/step - loss: 1.9710e-04 - mse: 1.9710e-04 - val_loss: 9.9077e-04 - val_mse: 9.9077e-04\n",
            "Epoch 29/90\n",
            "21/21 [==============================] - 1s 41ms/step - loss: 1.9638e-04 - mse: 1.9638e-04 - val_loss: 9.5884e-04 - val_mse: 9.5884e-04\n",
            "Epoch 30/90\n",
            "21/21 [==============================] - 1s 42ms/step - loss: 1.8529e-04 - mse: 1.8529e-04 - val_loss: 0.0010 - val_mse: 0.0010\n",
            "Epoch 31/90\n",
            "21/21 [==============================] - 1s 42ms/step - loss: 1.7391e-04 - mse: 1.7391e-04 - val_loss: 0.0010 - val_mse: 0.0010\n",
            "Epoch 32/90\n",
            "21/21 [==============================] - 1s 40ms/step - loss: 1.7027e-04 - mse: 1.7027e-04 - val_loss: 9.7890e-04 - val_mse: 9.7890e-04\n",
            "Epoch 33/90\n",
            "21/21 [==============================] - 1s 43ms/step - loss: 1.6137e-04 - mse: 1.6137e-04 - val_loss: 9.3276e-04 - val_mse: 9.3276e-04\n",
            "Epoch 34/90\n",
            "21/21 [==============================] - 1s 42ms/step - loss: 1.5697e-04 - mse: 1.5697e-04 - val_loss: 9.3549e-04 - val_mse: 9.3549e-04\n",
            "Epoch 35/90\n",
            "21/21 [==============================] - 1s 42ms/step - loss: 1.5492e-04 - mse: 1.5492e-04 - val_loss: 9.3636e-04 - val_mse: 9.3636e-04\n",
            "Epoch 36/90\n",
            "21/21 [==============================] - 1s 41ms/step - loss: 1.5034e-04 - mse: 1.5034e-04 - val_loss: 8.7965e-04 - val_mse: 8.7965e-04\n",
            "Epoch 37/90\n",
            "21/21 [==============================] - 1s 42ms/step - loss: 1.6610e-04 - mse: 1.6610e-04 - val_loss: 9.4703e-04 - val_mse: 9.4703e-04\n",
            "Epoch 38/90\n",
            "21/21 [==============================] - 1s 41ms/step - loss: 1.6855e-04 - mse: 1.6855e-04 - val_loss: 9.4843e-04 - val_mse: 9.4843e-04\n",
            "Epoch 39/90\n",
            "21/21 [==============================] - 1s 41ms/step - loss: 1.7802e-04 - mse: 1.7802e-04 - val_loss: 9.5893e-04 - val_mse: 9.5893e-04\n",
            "Epoch 40/90\n",
            "21/21 [==============================] - 1s 43ms/step - loss: 1.7381e-04 - mse: 1.7381e-04 - val_loss: 9.2069e-04 - val_mse: 9.2069e-04\n",
            "Epoch 41/90\n",
            "21/21 [==============================] - 1s 41ms/step - loss: 1.5997e-04 - mse: 1.5997e-04 - val_loss: 8.9566e-04 - val_mse: 8.9566e-04\n",
            "Epoch 42/90\n",
            "21/21 [==============================] - 1s 42ms/step - loss: 1.4687e-04 - mse: 1.4687e-04 - val_loss: 8.8000e-04 - val_mse: 8.8000e-04\n",
            "Epoch 43/90\n",
            "21/21 [==============================] - 1s 41ms/step - loss: 1.4052e-04 - mse: 1.4052e-04 - val_loss: 9.4487e-04 - val_mse: 9.4487e-04\n",
            "Epoch 44/90\n",
            "21/21 [==============================] - 1s 41ms/step - loss: 1.4165e-04 - mse: 1.4165e-04 - val_loss: 8.7909e-04 - val_mse: 8.7909e-04\n",
            "Epoch 45/90\n",
            "21/21 [==============================] - 1s 41ms/step - loss: 1.3961e-04 - mse: 1.3961e-04 - val_loss: 9.0277e-04 - val_mse: 9.0277e-04\n",
            "Epoch 46/90\n",
            "21/21 [==============================] - 1s 40ms/step - loss: 1.3983e-04 - mse: 1.3983e-04 - val_loss: 9.1639e-04 - val_mse: 9.1639e-04\n",
            "Epoch 47/90\n",
            "21/21 [==============================] - 1s 41ms/step - loss: 1.3984e-04 - mse: 1.3984e-04 - val_loss: 8.8687e-04 - val_mse: 8.8687e-04\n",
            "Epoch 48/90\n",
            "21/21 [==============================] - 1s 43ms/step - loss: 1.4002e-04 - mse: 1.4002e-04 - val_loss: 8.7847e-04 - val_mse: 8.7847e-04\n",
            "Epoch 49/90\n",
            "21/21 [==============================] - 1s 42ms/step - loss: 1.4260e-04 - mse: 1.4260e-04 - val_loss: 8.7579e-04 - val_mse: 8.7579e-04\n",
            "Epoch 50/90\n",
            "21/21 [==============================] - 1s 42ms/step - loss: 1.5230e-04 - mse: 1.5230e-04 - val_loss: 8.7317e-04 - val_mse: 8.7317e-04\n",
            "Epoch 51/90\n",
            "21/21 [==============================] - 1s 42ms/step - loss: 1.4564e-04 - mse: 1.4564e-04 - val_loss: 8.8648e-04 - val_mse: 8.8648e-04\n",
            "Epoch 52/90\n",
            "21/21 [==============================] - 1s 40ms/step - loss: 1.4772e-04 - mse: 1.4772e-04 - val_loss: 8.6176e-04 - val_mse: 8.6176e-04\n",
            "Epoch 53/90\n",
            "21/21 [==============================] - 1s 41ms/step - loss: 1.4602e-04 - mse: 1.4602e-04 - val_loss: 9.0107e-04 - val_mse: 9.0107e-04\n",
            "Epoch 54/90\n",
            "21/21 [==============================] - 1s 40ms/step - loss: 1.3930e-04 - mse: 1.3930e-04 - val_loss: 9.1560e-04 - val_mse: 9.1560e-04\n",
            "Epoch 55/90\n",
            "21/21 [==============================] - 1s 42ms/step - loss: 1.3793e-04 - mse: 1.3793e-04 - val_loss: 8.8515e-04 - val_mse: 8.8515e-04\n",
            "Epoch 56/90\n",
            "21/21 [==============================] - 1s 41ms/step - loss: 1.3853e-04 - mse: 1.3853e-04 - val_loss: 8.6339e-04 - val_mse: 8.6339e-04\n",
            "Epoch 57/90\n",
            "21/21 [==============================] - 1s 41ms/step - loss: 1.3977e-04 - mse: 1.3977e-04 - val_loss: 8.8984e-04 - val_mse: 8.8984e-04\n",
            "Epoch 58/90\n",
            "21/21 [==============================] - 1s 41ms/step - loss: 1.4585e-04 - mse: 1.4585e-04 - val_loss: 9.3966e-04 - val_mse: 9.3966e-04\n",
            "Epoch 59/90\n",
            "21/21 [==============================] - 1s 42ms/step - loss: 1.4866e-04 - mse: 1.4866e-04 - val_loss: 9.0378e-04 - val_mse: 9.0378e-04\n",
            "Epoch 60/90\n",
            "21/21 [==============================] - 1s 40ms/step - loss: 1.4532e-04 - mse: 1.4532e-04 - val_loss: 9.0616e-04 - val_mse: 9.0616e-04\n",
            "Epoch 61/90\n",
            "21/21 [==============================] - 1s 43ms/step - loss: 1.4336e-04 - mse: 1.4336e-04 - val_loss: 8.5125e-04 - val_mse: 8.5125e-04\n",
            "Epoch 62/90\n",
            "21/21 [==============================] - 1s 41ms/step - loss: 1.3990e-04 - mse: 1.3990e-04 - val_loss: 8.8443e-04 - val_mse: 8.8443e-04\n",
            "Epoch 63/90\n",
            "21/21 [==============================] - 1s 42ms/step - loss: 1.5380e-04 - mse: 1.5380e-04 - val_loss: 8.9465e-04 - val_mse: 8.9465e-04\n",
            "Epoch 64/90\n",
            "21/21 [==============================] - 1s 42ms/step - loss: 1.8371e-04 - mse: 1.8371e-04 - val_loss: 9.5268e-04 - val_mse: 9.5268e-04\n",
            "Epoch 65/90\n",
            "21/21 [==============================] - 1s 43ms/step - loss: 2.3616e-04 - mse: 2.3616e-04 - val_loss: 0.0010 - val_mse: 0.0010\n",
            "Epoch 66/90\n",
            "21/21 [==============================] - 1s 41ms/step - loss: 2.6468e-04 - mse: 2.6468e-04 - val_loss: 0.0011 - val_mse: 0.0011\n",
            "Epoch 67/90\n",
            "21/21 [==============================] - 1s 41ms/step - loss: 2.7654e-04 - mse: 2.7654e-04 - val_loss: 9.9637e-04 - val_mse: 9.9637e-04\n",
            "Epoch 68/90\n",
            "21/21 [==============================] - 1s 42ms/step - loss: 2.7715e-04 - mse: 2.7715e-04 - val_loss: 9.6357e-04 - val_mse: 9.6357e-04\n",
            "Epoch 69/90\n",
            "21/21 [==============================] - 1s 43ms/step - loss: 3.5640e-04 - mse: 3.5640e-04 - val_loss: 0.0013 - val_mse: 0.0013\n",
            "Epoch 70/90\n",
            "21/21 [==============================] - 1s 41ms/step - loss: 4.8525e-04 - mse: 4.8525e-04 - val_loss: 0.0012 - val_mse: 0.0012\n",
            "Epoch 71/90\n",
            "21/21 [==============================] - 1s 43ms/step - loss: 5.6161e-04 - mse: 5.6161e-04 - val_loss: 0.0013 - val_mse: 0.0013\n",
            "Epoch 72/90\n",
            "21/21 [==============================] - 1s 42ms/step - loss: 7.2065e-04 - mse: 7.2065e-04 - val_loss: 0.0022 - val_mse: 0.0022\n",
            "Epoch 73/90\n",
            "21/21 [==============================] - 1s 43ms/step - loss: 0.0015 - mse: 0.0015 - val_loss: 0.0022 - val_mse: 0.0022\n",
            "Epoch 74/90\n",
            "21/21 [==============================] - 1s 41ms/step - loss: 0.0015 - mse: 0.0015 - val_loss: 0.0021 - val_mse: 0.0021\n",
            "Epoch 75/90\n",
            "21/21 [==============================] - 1s 41ms/step - loss: 0.0013 - mse: 0.0013 - val_loss: 0.0019 - val_mse: 0.0019\n",
            "Epoch 76/90\n",
            "21/21 [==============================] - 1s 42ms/step - loss: 0.0010 - mse: 0.0010 - val_loss: 0.0018 - val_mse: 0.0018\n",
            "Epoch 77/90\n",
            "21/21 [==============================] - 1s 43ms/step - loss: 0.0011 - mse: 0.0011 - val_loss: 0.0019 - val_mse: 0.0019\n",
            "Epoch 78/90\n",
            "21/21 [==============================] - 1s 43ms/step - loss: 9.9903e-04 - mse: 9.9903e-04 - val_loss: 0.0018 - val_mse: 0.0018\n",
            "Epoch 79/90\n",
            "21/21 [==============================] - 1s 42ms/step - loss: 7.6617e-04 - mse: 7.6617e-04 - val_loss: 0.0017 - val_mse: 0.0017\n",
            "Epoch 80/90\n",
            "21/21 [==============================] - 1s 42ms/step - loss: 6.3252e-04 - mse: 6.3252e-04 - val_loss: 0.0015 - val_mse: 0.0015\n",
            "Epoch 81/90\n",
            "21/21 [==============================] - 1s 41ms/step - loss: 7.1689e-04 - mse: 7.1689e-04 - val_loss: 0.0018 - val_mse: 0.0018\n",
            "Epoch 82/90\n",
            "21/21 [==============================] - 1s 41ms/step - loss: 6.8752e-04 - mse: 6.8752e-04 - val_loss: 0.0015 - val_mse: 0.0015\n",
            "Epoch 83/90\n",
            "21/21 [==============================] - 1s 41ms/step - loss: 5.2891e-04 - mse: 5.2891e-04 - val_loss: 0.0015 - val_mse: 0.0015\n",
            "Epoch 84/90\n",
            "21/21 [==============================] - 1s 42ms/step - loss: 4.1634e-04 - mse: 4.1634e-04 - val_loss: 0.0012 - val_mse: 0.0012\n",
            "Epoch 85/90\n",
            "21/21 [==============================] - 1s 42ms/step - loss: 3.3117e-04 - mse: 3.3117e-04 - val_loss: 0.0012 - val_mse: 0.0012\n",
            "Epoch 86/90\n",
            "21/21 [==============================] - 1s 42ms/step - loss: 3.2186e-04 - mse: 3.2186e-04 - val_loss: 0.0012 - val_mse: 0.0012\n",
            "Epoch 87/90\n",
            "21/21 [==============================] - 1s 41ms/step - loss: 3.0630e-04 - mse: 3.0630e-04 - val_loss: 0.0012 - val_mse: 0.0012\n",
            "Epoch 88/90\n",
            "21/21 [==============================] - 1s 41ms/step - loss: 2.8827e-04 - mse: 2.8827e-04 - val_loss: 0.0012 - val_mse: 0.0012\n",
            "Epoch 89/90\n",
            "21/21 [==============================] - 1s 42ms/step - loss: 2.4926e-04 - mse: 2.4926e-04 - val_loss: 0.0010 - val_mse: 0.0010\n",
            "Epoch 90/90\n",
            "21/21 [==============================] - 1s 42ms/step - loss: 2.2172e-04 - mse: 2.2172e-04 - val_loss: 0.0011 - val_mse: 0.0011\n"
          ],
          "name": "stdout"
        }
      ]
    },
    {
      "cell_type": "code",
      "metadata": {
        "colab": {
          "base_uri": "https://localhost:8080/",
          "height": 350
        },
        "id": "Z0w3ZU5mz4ht",
        "outputId": "8a0cd7da-35aa-48c2-bab2-18bdaf5e0ec3"
      },
      "source": [
        "# Plot loss vs iterations\n",
        "plt.figure(None,(10,5))\n",
        "plt.plot(history.history['loss'])\n",
        "plt.xlabel('Iterations')\n",
        "plt.ylabel('Validation Loss')\n",
        "plt.title('Validation Loss vs No of Iterations:')\n",
        "plt.xticks(np.arange(0, 90, 10))\n",
        "\n",
        "plt.show()"
      ],
      "execution_count": null,
      "outputs": [
        {
          "output_type": "display_data",
          "data": {
            "image/png": "[encoded data removed]",
            "text/plain": [
              "<Figure size 720x360 with 1 Axes>"
            ]
          },
          "metadata": {
            "tags": [],
            "needs_background": "light"
          }
        }
      ]
    },
    {
      "cell_type": "code",
      "metadata": {
        "colab": {
          "base_uri": "https://localhost:8080/",
          "height": 295
        },
        "id": "2HNIej9jyPdk",
        "outputId": "9fd083af-f131-46a2-ab6d-bd6bfc8be207"
      },
      "source": [
        "#Plot of prediction vs actual values\n",
        "\n",
        "data_Start_Point = 400\n",
        "test_Data = All_Data[data_Start_Point:data_Start_Point+50,input];\n",
        "min = np.min(test_Data,axis = 0);\n",
        "max = np.max(test_Data,axis = 0);\n",
        "actual_Target = All_Data[data_Start_Point+50:data_Start_Point+55,1];\n",
        "results = model.predict((test_Data.reshape(1,50,8)-min)/max)\n",
        "results = results.reshape(5)\n",
        "results = results*max[1] + min[1];\n",
        "plt.plot(range(50,55),results*10, 'g')\n",
        "plt.plot(range(50,55),actual_Target*10, 'b')\n",
        "plt.ylabel('Price')\n",
        "plt.xlabel('Days')\n",
        "plt.xticks(np.arange(50,55,1))\n",
        "plt.title('Predicted(blue) vs Actual(green)')\n",
        "plt.show()"
      ],
      "execution_count": null,
      "outputs": [
        {
          "output_type": "display_data",
          "data": {
            "image/png": "[encoded data removed]",
            "text/plain": [
              "<Figure size 432x288 with 1 Axes>"
            ]
          },
          "metadata": {
            "tags": [],
            "needs_background": "light"
          }
        }
      ]
    },
    {
      "cell_type": "markdown",
      "metadata": {
        "id": "-d7Kr4Ad0Qm9"
      },
      "source": [
        "Results show a decent predictability of the model"
      ]
    },
    {
      "cell_type": "markdown",
      "metadata": {
        "id": "IiuSBrtVw83q"
      },
      "source": [
        "LSTM"
      ]
    },
    {
      "cell_type": "code",
      "metadata": {
        "colab": {
          "base_uri": "https://localhost:8080/"
        },
        "id": "WlVlzrAKw9fO",
        "outputId": "898d176a-803f-4a42-fff7-82565e69f9ad"
      },
      "source": [
        "model = Sequential()\n",
        "model.add(LSTM((128), batch_input_shape = (None, 50,8), return_sequences = True))\n",
        "model.add(LSTM((64), activation = 'relu', return_sequences = True))\n",
        "model.add(LSTM((32), activation = 'relu', return_sequences = False))\n",
        "model.add(Dense(5,activation = 'relu'))\n",
        "model.compile(loss = 'mse',  optimizer = 'adam', metrics = ['mse'])\n",
        "model.summary()"
      ],
      "execution_count": null,
      "outputs": [
        {
          "output_type": "stream",
          "text": [
            "Model: \"sequential_12\"\n",
            "_________________________________________________________________\n",
            "Layer (type)                 Output Shape              Param #   \n",
            "=================================================================\n",
            "lstm_6 (LSTM)                (None, 50, 128)           70144     \n",
            "_________________________________________________________________\n",
            "lstm_7 (LSTM)                (None, 50, 64)            49408     \n",
            "_________________________________________________________________\n",
            "lstm_8 (LSTM)                (None, 32)                12416     \n",
            "_________________________________________________________________\n",
            "dense_10 (Dense)             (None, 5)                 165       \n",
            "=================================================================\n",
            "Total params: 132,133\n",
            "Trainable params: 132,133\n",
            "Non-trainable params: 0\n",
            "_________________________________________________________________\n"
          ],
          "name": "stdout"
        }
      ]
    },
    {
      "cell_type": "code",
      "metadata": {
        "colab": {
          "base_uri": "https://localhost:8080/"
        },
        "id": "w9KJ3DbK0veK",
        "outputId": "efc02074-fb55-4ef8-9162-49b052ebe55f"
      },
      "source": [
        "history = model.fit(X_train, y_train, epochs = 150, validation_data = (X_test, y_test))"
      ],
      "execution_count": null,
      "outputs": [
        {
          "output_type": "stream",
          "text": [
            "Epoch 1/150\n",
            "21/21 [==============================] - 1s 43ms/step - loss: 2.2688e-04 - mse: 2.2688e-04 - val_loss: 0.0011 - val_mse: 0.0011\n",
            "Epoch 2/150\n",
            "21/21 [==============================] - 1s 41ms/step - loss: 2.1318e-04 - mse: 2.1318e-04 - val_loss: 0.0011 - val_mse: 0.0011\n",
            "Epoch 3/150\n",
            "21/21 [==============================] - 1s 40ms/step - loss: 1.9956e-04 - mse: 1.9956e-04 - val_loss: 0.0011 - val_mse: 0.0011\n",
            "Epoch 4/150\n",
            "21/21 [==============================] - 1s 41ms/step - loss: 1.9030e-04 - mse: 1.9030e-04 - val_loss: 0.0010 - val_mse: 0.0010\n",
            "Epoch 5/150\n",
            "21/21 [==============================] - 1s 39ms/step - loss: 1.8629e-04 - mse: 1.8629e-04 - val_loss: 9.7132e-04 - val_mse: 9.7132e-04\n",
            "Epoch 6/150\n",
            "21/21 [==============================] - 1s 41ms/step - loss: 1.8137e-04 - mse: 1.8137e-04 - val_loss: 9.7463e-04 - val_mse: 9.7463e-04\n",
            "Epoch 7/150\n",
            "21/21 [==============================] - 1s 40ms/step - loss: 1.7477e-04 - mse: 1.7477e-04 - val_loss: 9.8408e-04 - val_mse: 9.8408e-04\n",
            "Epoch 8/150\n",
            "21/21 [==============================] - 1s 41ms/step - loss: 1.6747e-04 - mse: 1.6747e-04 - val_loss: 9.4684e-04 - val_mse: 9.4684e-04\n",
            "Epoch 9/150\n",
            "21/21 [==============================] - 1s 41ms/step - loss: 1.5634e-04 - mse: 1.5634e-04 - val_loss: 9.6247e-04 - val_mse: 9.6247e-04\n",
            "Epoch 10/150\n",
            "21/21 [==============================] - 1s 40ms/step - loss: 1.5177e-04 - mse: 1.5177e-04 - val_loss: 9.7736e-04 - val_mse: 9.7736e-04\n",
            "Epoch 11/150\n",
            "21/21 [==============================] - 1s 40ms/step - loss: 1.5094e-04 - mse: 1.5094e-04 - val_loss: 9.1375e-04 - val_mse: 9.1375e-04\n",
            "Epoch 12/150\n",
            "21/21 [==============================] - 1s 41ms/step - loss: 1.4790e-04 - mse: 1.4790e-04 - val_loss: 9.2668e-04 - val_mse: 9.2668e-04\n",
            "Epoch 13/150\n",
            "21/21 [==============================] - 1s 40ms/step - loss: 1.4545e-04 - mse: 1.4545e-04 - val_loss: 9.2981e-04 - val_mse: 9.2981e-04\n",
            "Epoch 14/150\n",
            "21/21 [==============================] - 1s 42ms/step - loss: 1.4454e-04 - mse: 1.4454e-04 - val_loss: 9.2692e-04 - val_mse: 9.2692e-04\n",
            "Epoch 15/150\n",
            "21/21 [==============================] - 1s 41ms/step - loss: 1.4705e-04 - mse: 1.4705e-04 - val_loss: 9.1181e-04 - val_mse: 9.1181e-04\n",
            "Epoch 16/150\n",
            "21/21 [==============================] - 1s 41ms/step - loss: 1.4123e-04 - mse: 1.4123e-04 - val_loss: 9.2120e-04 - val_mse: 9.2120e-04\n",
            "Epoch 17/150\n",
            "21/21 [==============================] - 1s 40ms/step - loss: 1.3985e-04 - mse: 1.3985e-04 - val_loss: 9.3079e-04 - val_mse: 9.3079e-04\n",
            "Epoch 18/150\n",
            "21/21 [==============================] - 1s 42ms/step - loss: 1.4130e-04 - mse: 1.4130e-04 - val_loss: 9.1936e-04 - val_mse: 9.1936e-04\n",
            "Epoch 19/150\n",
            "21/21 [==============================] - 1s 41ms/step - loss: 1.4269e-04 - mse: 1.4269e-04 - val_loss: 9.0311e-04 - val_mse: 9.0311e-04\n",
            "Epoch 20/150\n",
            "21/21 [==============================] - 1s 41ms/step - loss: 1.4050e-04 - mse: 1.4050e-04 - val_loss: 9.4527e-04 - val_mse: 9.4527e-04\n",
            "Epoch 21/150\n",
            "21/21 [==============================] - 1s 41ms/step - loss: 1.3785e-04 - mse: 1.3785e-04 - val_loss: 9.1091e-04 - val_mse: 9.1091e-04\n",
            "Epoch 22/150\n",
            "21/21 [==============================] - 1s 40ms/step - loss: 1.3869e-04 - mse: 1.3869e-04 - val_loss: 8.8314e-04 - val_mse: 8.8314e-04\n",
            "Epoch 23/150\n",
            "21/21 [==============================] - 1s 40ms/step - loss: 1.4118e-04 - mse: 1.4118e-04 - val_loss: 9.4810e-04 - val_mse: 9.4810e-04\n",
            "Epoch 24/150\n",
            "21/21 [==============================] - 1s 40ms/step - loss: 1.3945e-04 - mse: 1.3945e-04 - val_loss: 9.0369e-04 - val_mse: 9.0369e-04\n",
            "Epoch 25/150\n",
            "21/21 [==============================] - 1s 40ms/step - loss: 1.3436e-04 - mse: 1.3436e-04 - val_loss: 8.8937e-04 - val_mse: 8.8937e-04\n",
            "Epoch 26/150\n",
            "21/21 [==============================] - 1s 41ms/step - loss: 1.3260e-04 - mse: 1.3260e-04 - val_loss: 9.1273e-04 - val_mse: 9.1273e-04\n",
            "Epoch 27/150\n",
            "21/21 [==============================] - 1s 41ms/step - loss: 1.3240e-04 - mse: 1.3240e-04 - val_loss: 8.9498e-04 - val_mse: 8.9498e-04\n",
            "Epoch 28/150\n",
            "21/21 [==============================] - 1s 41ms/step - loss: 1.3213e-04 - mse: 1.3213e-04 - val_loss: 8.5709e-04 - val_mse: 8.5709e-04\n",
            "Epoch 29/150\n",
            "21/21 [==============================] - 1s 40ms/step - loss: 1.2921e-04 - mse: 1.2921e-04 - val_loss: 8.7839e-04 - val_mse: 8.7839e-04\n",
            "Epoch 30/150\n",
            "21/21 [==============================] - 1s 42ms/step - loss: 1.3028e-04 - mse: 1.3028e-04 - val_loss: 8.6020e-04 - val_mse: 8.6020e-04\n",
            "Epoch 31/150\n",
            "21/21 [==============================] - 1s 40ms/step - loss: 1.3326e-04 - mse: 1.3326e-04 - val_loss: 8.6997e-04 - val_mse: 8.6997e-04\n",
            "Epoch 32/150\n",
            "21/21 [==============================] - 1s 40ms/step - loss: 1.3626e-04 - mse: 1.3626e-04 - val_loss: 8.8665e-04 - val_mse: 8.8665e-04\n",
            "Epoch 33/150\n",
            "21/21 [==============================] - 1s 41ms/step - loss: 1.3711e-04 - mse: 1.3711e-04 - val_loss: 8.6279e-04 - val_mse: 8.6279e-04\n",
            "Epoch 34/150\n",
            "21/21 [==============================] - 1s 41ms/step - loss: 1.3678e-04 - mse: 1.3678e-04 - val_loss: 8.7404e-04 - val_mse: 8.7404e-04\n",
            "Epoch 35/150\n",
            "21/21 [==============================] - 1s 41ms/step - loss: 1.4201e-04 - mse: 1.4201e-04 - val_loss: 9.1185e-04 - val_mse: 9.1185e-04\n",
            "Epoch 36/150\n",
            "21/21 [==============================] - 1s 41ms/step - loss: 1.5127e-04 - mse: 1.5127e-04 - val_loss: 8.9313e-04 - val_mse: 8.9313e-04\n",
            "Epoch 37/150\n",
            "21/21 [==============================] - 1s 41ms/step - loss: 1.4741e-04 - mse: 1.4741e-04 - val_loss: 8.6552e-04 - val_mse: 8.6552e-04\n",
            "Epoch 38/150\n",
            "21/21 [==============================] - 1s 40ms/step - loss: 1.4450e-04 - mse: 1.4450e-04 - val_loss: 8.6278e-04 - val_mse: 8.6278e-04\n",
            "Epoch 39/150\n",
            "21/21 [==============================] - 1s 41ms/step - loss: 1.3681e-04 - mse: 1.3681e-04 - val_loss: 8.9973e-04 - val_mse: 8.9973e-04\n",
            "Epoch 40/150\n",
            "21/21 [==============================] - 1s 42ms/step - loss: 1.3606e-04 - mse: 1.3606e-04 - val_loss: 8.5339e-04 - val_mse: 8.5339e-04\n",
            "Epoch 41/150\n",
            "21/21 [==============================] - 1s 41ms/step - loss: 1.3898e-04 - mse: 1.3898e-04 - val_loss: 8.8287e-04 - val_mse: 8.8287e-04\n",
            "Epoch 42/150\n",
            "21/21 [==============================] - 1s 42ms/step - loss: 1.4333e-04 - mse: 1.4333e-04 - val_loss: 8.6128e-04 - val_mse: 8.6128e-04\n",
            "Epoch 43/150\n",
            "21/21 [==============================] - 1s 41ms/step - loss: 1.5041e-04 - mse: 1.5041e-04 - val_loss: 8.8485e-04 - val_mse: 8.8485e-04\n",
            "Epoch 44/150\n",
            "21/21 [==============================] - 1s 41ms/step - loss: 1.5818e-04 - mse: 1.5818e-04 - val_loss: 8.9213e-04 - val_mse: 8.9213e-04\n",
            "Epoch 45/150\n",
            "21/21 [==============================] - 1s 41ms/step - loss: 1.5008e-04 - mse: 1.5008e-04 - val_loss: 8.7465e-04 - val_mse: 8.7465e-04\n",
            "Epoch 46/150\n",
            "21/21 [==============================] - 1s 41ms/step - loss: 1.3699e-04 - mse: 1.3699e-04 - val_loss: 8.7731e-04 - val_mse: 8.7731e-04\n",
            "Epoch 47/150\n",
            "21/21 [==============================] - 1s 41ms/step - loss: 1.3141e-04 - mse: 1.3141e-04 - val_loss: 8.5817e-04 - val_mse: 8.5817e-04\n",
            "Epoch 48/150\n",
            "21/21 [==============================] - 1s 42ms/step - loss: 1.3549e-04 - mse: 1.3549e-04 - val_loss: 8.1873e-04 - val_mse: 8.1873e-04\n",
            "Epoch 49/150\n",
            "21/21 [==============================] - 1s 41ms/step - loss: 1.3777e-04 - mse: 1.3777e-04 - val_loss: 8.3066e-04 - val_mse: 8.3066e-04\n",
            "Epoch 50/150\n",
            "21/21 [==============================] - 1s 41ms/step - loss: 1.4270e-04 - mse: 1.4270e-04 - val_loss: 8.4484e-04 - val_mse: 8.4484e-04\n",
            "Epoch 51/150\n",
            "21/21 [==============================] - 1s 42ms/step - loss: 1.4372e-04 - mse: 1.4372e-04 - val_loss: 8.9330e-04 - val_mse: 8.9330e-04\n",
            "Epoch 52/150\n",
            "21/21 [==============================] - 1s 42ms/step - loss: 1.4965e-04 - mse: 1.4965e-04 - val_loss: 9.0065e-04 - val_mse: 9.0065e-04\n",
            "Epoch 53/150\n",
            "21/21 [==============================] - 1s 42ms/step - loss: 1.4856e-04 - mse: 1.4856e-04 - val_loss: 8.8326e-04 - val_mse: 8.8326e-04\n",
            "Epoch 54/150\n",
            "21/21 [==============================] - 1s 42ms/step - loss: 1.4138e-04 - mse: 1.4138e-04 - val_loss: 8.5334e-04 - val_mse: 8.5334e-04\n",
            "Epoch 55/150\n",
            "21/21 [==============================] - 1s 42ms/step - loss: 1.4275e-04 - mse: 1.4275e-04 - val_loss: 8.7837e-04 - val_mse: 8.7837e-04\n",
            "Epoch 56/150\n",
            "21/21 [==============================] - 1s 42ms/step - loss: 1.4964e-04 - mse: 1.4964e-04 - val_loss: 8.7876e-04 - val_mse: 8.7876e-04\n",
            "Epoch 57/150\n",
            "21/21 [==============================] - 1s 41ms/step - loss: 1.5277e-04 - mse: 1.5277e-04 - val_loss: 8.8349e-04 - val_mse: 8.8349e-04\n",
            "Epoch 58/150\n",
            "21/21 [==============================] - 1s 42ms/step - loss: 1.5361e-04 - mse: 1.5361e-04 - val_loss: 8.5302e-04 - val_mse: 8.5302e-04\n",
            "Epoch 59/150\n",
            "21/21 [==============================] - 1s 42ms/step - loss: 1.4676e-04 - mse: 1.4676e-04 - val_loss: 8.8329e-04 - val_mse: 8.8329e-04\n",
            "Epoch 60/150\n",
            "21/21 [==============================] - 1s 43ms/step - loss: 1.5134e-04 - mse: 1.5134e-04 - val_loss: 8.1975e-04 - val_mse: 8.1975e-04\n",
            "Epoch 61/150\n",
            "21/21 [==============================] - 1s 42ms/step - loss: 1.4634e-04 - mse: 1.4634e-04 - val_loss: 8.7653e-04 - val_mse: 8.7653e-04\n",
            "Epoch 62/150\n",
            "21/21 [==============================] - 1s 41ms/step - loss: 1.4687e-04 - mse: 1.4687e-04 - val_loss: 8.3173e-04 - val_mse: 8.3173e-04\n",
            "Epoch 63/150\n",
            "21/21 [==============================] - 1s 41ms/step - loss: 1.6147e-04 - mse: 1.6147e-04 - val_loss: 8.9255e-04 - val_mse: 8.9255e-04\n",
            "Epoch 64/150\n",
            "21/21 [==============================] - 1s 42ms/step - loss: 1.5708e-04 - mse: 1.5708e-04 - val_loss: 8.6050e-04 - val_mse: 8.6050e-04\n",
            "Epoch 65/150\n",
            "21/21 [==============================] - 1s 41ms/step - loss: 1.5193e-04 - mse: 1.5193e-04 - val_loss: 8.3572e-04 - val_mse: 8.3572e-04\n",
            "Epoch 66/150\n",
            "21/21 [==============================] - 1s 41ms/step - loss: 1.4645e-04 - mse: 1.4645e-04 - val_loss: 8.5788e-04 - val_mse: 8.5788e-04\n",
            "Epoch 67/150\n",
            "21/21 [==============================] - 1s 42ms/step - loss: 1.4176e-04 - mse: 1.4176e-04 - val_loss: 8.2189e-04 - val_mse: 8.2189e-04\n",
            "Epoch 68/150\n",
            "21/21 [==============================] - 1s 41ms/step - loss: 1.4896e-04 - mse: 1.4896e-04 - val_loss: 8.4198e-04 - val_mse: 8.4198e-04\n",
            "Epoch 69/150\n",
            "21/21 [==============================] - 1s 41ms/step - loss: 1.4990e-04 - mse: 1.4990e-04 - val_loss: 8.3204e-04 - val_mse: 8.3204e-04\n",
            "Epoch 70/150\n",
            "21/21 [==============================] - 1s 41ms/step - loss: 1.4517e-04 - mse: 1.4517e-04 - val_loss: 8.7100e-04 - val_mse: 8.7100e-04\n",
            "Epoch 71/150\n",
            "21/21 [==============================] - 1s 41ms/step - loss: 1.4679e-04 - mse: 1.4679e-04 - val_loss: 8.1644e-04 - val_mse: 8.1644e-04\n",
            "Epoch 72/150\n",
            "21/21 [==============================] - 1s 40ms/step - loss: 1.6365e-04 - mse: 1.6365e-04 - val_loss: 8.5665e-04 - val_mse: 8.5665e-04\n",
            "Epoch 73/150\n",
            "21/21 [==============================] - 1s 42ms/step - loss: 1.6810e-04 - mse: 1.6810e-04 - val_loss: 8.4421e-04 - val_mse: 8.4421e-04\n",
            "Epoch 74/150\n",
            "21/21 [==============================] - 1s 41ms/step - loss: 1.8923e-04 - mse: 1.8923e-04 - val_loss: 8.9892e-04 - val_mse: 8.9892e-04\n",
            "Epoch 75/150\n",
            "21/21 [==============================] - 1s 42ms/step - loss: 2.0707e-04 - mse: 2.0707e-04 - val_loss: 9.6025e-04 - val_mse: 9.6025e-04\n",
            "Epoch 76/150\n",
            "21/21 [==============================] - 1s 42ms/step - loss: 1.9429e-04 - mse: 1.9429e-04 - val_loss: 8.7753e-04 - val_mse: 8.7753e-04\n",
            "Epoch 77/150\n",
            "21/21 [==============================] - 1s 42ms/step - loss: 1.8351e-04 - mse: 1.8351e-04 - val_loss: 8.3636e-04 - val_mse: 8.3636e-04\n",
            "Epoch 78/150\n",
            "21/21 [==============================] - 1s 42ms/step - loss: 1.9948e-04 - mse: 1.9948e-04 - val_loss: 9.8091e-04 - val_mse: 9.8091e-04\n",
            "Epoch 79/150\n",
            "21/21 [==============================] - 1s 42ms/step - loss: 2.4448e-04 - mse: 2.4448e-04 - val_loss: 0.0011 - val_mse: 0.0011\n",
            "Epoch 80/150\n",
            "21/21 [==============================] - 1s 42ms/step - loss: 2.7809e-04 - mse: 2.7809e-04 - val_loss: 8.8152e-04 - val_mse: 8.8152e-04\n",
            "Epoch 81/150\n",
            "21/21 [==============================] - 1s 43ms/step - loss: 2.7431e-04 - mse: 2.7431e-04 - val_loss: 8.9920e-04 - val_mse: 8.9920e-04\n",
            "Epoch 82/150\n",
            "21/21 [==============================] - 1s 41ms/step - loss: 3.0929e-04 - mse: 3.0929e-04 - val_loss: 9.8319e-04 - val_mse: 9.8319e-04\n",
            "Epoch 83/150\n",
            "21/21 [==============================] - 1s 42ms/step - loss: 3.3758e-04 - mse: 3.3758e-04 - val_loss: 0.0011 - val_mse: 0.0011\n",
            "Epoch 84/150\n",
            "21/21 [==============================] - 1s 42ms/step - loss: 3.6683e-04 - mse: 3.6683e-04 - val_loss: 0.0011 - val_mse: 0.0011\n",
            "Epoch 85/150\n",
            "21/21 [==============================] - 1s 42ms/step - loss: 4.4569e-04 - mse: 4.4569e-04 - val_loss: 0.0012 - val_mse: 0.0012\n",
            "Epoch 86/150\n",
            "21/21 [==============================] - 1s 42ms/step - loss: 3.6436e-04 - mse: 3.6436e-04 - val_loss: 0.0010 - val_mse: 0.0010\n",
            "Epoch 87/150\n",
            "21/21 [==============================] - 1s 41ms/step - loss: 4.2119e-04 - mse: 4.2119e-04 - val_loss: 0.0013 - val_mse: 0.0013\n",
            "Epoch 88/150\n",
            "21/21 [==============================] - 1s 43ms/step - loss: 5.6784e-04 - mse: 5.6784e-04 - val_loss: 0.0012 - val_mse: 0.0012\n",
            "Epoch 89/150\n",
            "21/21 [==============================] - 1s 42ms/step - loss: 6.2060e-04 - mse: 6.2060e-04 - val_loss: 0.0017 - val_mse: 0.0017\n",
            "Epoch 90/150\n",
            "21/21 [==============================] - 1s 42ms/step - loss: 5.9811e-04 - mse: 5.9811e-04 - val_loss: 0.0013 - val_mse: 0.0013\n",
            "Epoch 91/150\n",
            "21/21 [==============================] - 1s 40ms/step - loss: 4.8268e-04 - mse: 4.8268e-04 - val_loss: 9.9075e-04 - val_mse: 9.9075e-04\n",
            "Epoch 92/150\n",
            "21/21 [==============================] - 1s 41ms/step - loss: 4.8454e-04 - mse: 4.8454e-04 - val_loss: 0.0013 - val_mse: 0.0013\n",
            "Epoch 93/150\n",
            "21/21 [==============================] - 1s 42ms/step - loss: 4.2437e-04 - mse: 4.2437e-04 - val_loss: 0.0011 - val_mse: 0.0011\n",
            "Epoch 94/150\n",
            "21/21 [==============================] - 1s 42ms/step - loss: 3.3090e-04 - mse: 3.3090e-04 - val_loss: 9.4567e-04 - val_mse: 9.4567e-04\n",
            "Epoch 95/150\n",
            "21/21 [==============================] - 1s 42ms/step - loss: 2.5058e-04 - mse: 2.5058e-04 - val_loss: 8.7473e-04 - val_mse: 8.7473e-04\n",
            "Epoch 96/150\n",
            "21/21 [==============================] - 1s 41ms/step - loss: 2.1005e-04 - mse: 2.1005e-04 - val_loss: 8.3627e-04 - val_mse: 8.3627e-04\n",
            "Epoch 97/150\n",
            "21/21 [==============================] - 1s 43ms/step - loss: 1.8079e-04 - mse: 1.8079e-04 - val_loss: 8.0746e-04 - val_mse: 8.0746e-04\n",
            "Epoch 98/150\n",
            "21/21 [==============================] - 1s 42ms/step - loss: 1.7095e-04 - mse: 1.7095e-04 - val_loss: 8.6341e-04 - val_mse: 8.6341e-04\n",
            "Epoch 99/150\n",
            "21/21 [==============================] - 1s 41ms/step - loss: 1.6464e-04 - mse: 1.6464e-04 - val_loss: 8.0516e-04 - val_mse: 8.0516e-04\n",
            "Epoch 100/150\n",
            "21/21 [==============================] - 1s 42ms/step - loss: 1.5240e-04 - mse: 1.5240e-04 - val_loss: 7.8085e-04 - val_mse: 7.8085e-04\n",
            "Epoch 101/150\n",
            "21/21 [==============================] - 1s 41ms/step - loss: 1.4411e-04 - mse: 1.4411e-04 - val_loss: 7.9664e-04 - val_mse: 7.9664e-04\n",
            "Epoch 102/150\n",
            "21/21 [==============================] - 1s 42ms/step - loss: 1.3721e-04 - mse: 1.3721e-04 - val_loss: 7.6848e-04 - val_mse: 7.6848e-04\n",
            "Epoch 103/150\n",
            "21/21 [==============================] - 1s 42ms/step - loss: 1.3140e-04 - mse: 1.3140e-04 - val_loss: 7.7736e-04 - val_mse: 7.7736e-04\n",
            "Epoch 104/150\n",
            "21/21 [==============================] - 1s 41ms/step - loss: 1.3086e-04 - mse: 1.3086e-04 - val_loss: 7.6582e-04 - val_mse: 7.6582e-04\n",
            "Epoch 105/150\n",
            "21/21 [==============================] - 1s 42ms/step - loss: 1.2855e-04 - mse: 1.2855e-04 - val_loss: 7.5931e-04 - val_mse: 7.5931e-04\n",
            "Epoch 106/150\n",
            "21/21 [==============================] - 1s 42ms/step - loss: 1.2509e-04 - mse: 1.2509e-04 - val_loss: 7.6275e-04 - val_mse: 7.6275e-04\n",
            "Epoch 107/150\n",
            "21/21 [==============================] - 1s 42ms/step - loss: 1.2393e-04 - mse: 1.2393e-04 - val_loss: 7.4836e-04 - val_mse: 7.4836e-04\n",
            "Epoch 108/150\n",
            "21/21 [==============================] - 1s 41ms/step - loss: 1.2371e-04 - mse: 1.2371e-04 - val_loss: 7.6807e-04 - val_mse: 7.6807e-04\n",
            "Epoch 109/150\n",
            "21/21 [==============================] - 1s 42ms/step - loss: 1.2240e-04 - mse: 1.2240e-04 - val_loss: 7.6188e-04 - val_mse: 7.6188e-04\n",
            "Epoch 110/150\n",
            "21/21 [==============================] - 1s 42ms/step - loss: 1.2207e-04 - mse: 1.2207e-04 - val_loss: 7.5000e-04 - val_mse: 7.5000e-04\n",
            "Epoch 111/150\n",
            "21/21 [==============================] - 1s 43ms/step - loss: 1.2475e-04 - mse: 1.2475e-04 - val_loss: 7.6052e-04 - val_mse: 7.6052e-04\n",
            "Epoch 112/150\n",
            "21/21 [==============================] - 1s 43ms/step - loss: 1.2364e-04 - mse: 1.2364e-04 - val_loss: 7.3145e-04 - val_mse: 7.3145e-04\n",
            "Epoch 113/150\n",
            "21/21 [==============================] - 1s 42ms/step - loss: 1.2111e-04 - mse: 1.2111e-04 - val_loss: 7.5952e-04 - val_mse: 7.5952e-04\n",
            "Epoch 114/150\n",
            "21/21 [==============================] - 1s 42ms/step - loss: 1.2018e-04 - mse: 1.2018e-04 - val_loss: 7.3714e-04 - val_mse: 7.3714e-04\n",
            "Epoch 115/150\n",
            "21/21 [==============================] - 1s 41ms/step - loss: 1.1848e-04 - mse: 1.1848e-04 - val_loss: 7.3343e-04 - val_mse: 7.3343e-04\n",
            "Epoch 116/150\n",
            "21/21 [==============================] - 1s 42ms/step - loss: 1.1824e-04 - mse: 1.1824e-04 - val_loss: 7.4258e-04 - val_mse: 7.4258e-04\n",
            "Epoch 117/150\n",
            "21/21 [==============================] - 1s 42ms/step - loss: 1.1656e-04 - mse: 1.1656e-04 - val_loss: 7.3634e-04 - val_mse: 7.3634e-04\n",
            "Epoch 118/150\n",
            "21/21 [==============================] - 1s 42ms/step - loss: 1.1579e-04 - mse: 1.1579e-04 - val_loss: 7.4360e-04 - val_mse: 7.4360e-04\n",
            "Epoch 119/150\n",
            "21/21 [==============================] - 1s 42ms/step - loss: 1.1507e-04 - mse: 1.1507e-04 - val_loss: 7.2489e-04 - val_mse: 7.2489e-04\n",
            "Epoch 120/150\n",
            "21/21 [==============================] - 1s 44ms/step - loss: 1.1396e-04 - mse: 1.1396e-04 - val_loss: 7.4084e-04 - val_mse: 7.4084e-04\n",
            "Epoch 121/150\n",
            "21/21 [==============================] - 1s 41ms/step - loss: 1.1491e-04 - mse: 1.1491e-04 - val_loss: 7.3153e-04 - val_mse: 7.3153e-04\n",
            "Epoch 122/150\n",
            "21/21 [==============================] - 1s 44ms/step - loss: 1.1465e-04 - mse: 1.1465e-04 - val_loss: 7.3926e-04 - val_mse: 7.3926e-04\n",
            "Epoch 123/150\n",
            "21/21 [==============================] - 1s 42ms/step - loss: 1.1632e-04 - mse: 1.1632e-04 - val_loss: 7.3961e-04 - val_mse: 7.3961e-04\n",
            "Epoch 124/150\n",
            "21/21 [==============================] - 1s 43ms/step - loss: 1.1656e-04 - mse: 1.1656e-04 - val_loss: 7.3983e-04 - val_mse: 7.3983e-04\n",
            "Epoch 125/150\n",
            "21/21 [==============================] - 1s 42ms/step - loss: 1.1862e-04 - mse: 1.1862e-04 - val_loss: 7.3859e-04 - val_mse: 7.3859e-04\n",
            "Epoch 126/150\n",
            "21/21 [==============================] - 1s 43ms/step - loss: 1.1835e-04 - mse: 1.1835e-04 - val_loss: 7.2624e-04 - val_mse: 7.2624e-04\n",
            "Epoch 127/150\n",
            "21/21 [==============================] - 1s 42ms/step - loss: 1.1695e-04 - mse: 1.1695e-04 - val_loss: 7.3370e-04 - val_mse: 7.3370e-04\n",
            "Epoch 128/150\n",
            "21/21 [==============================] - 1s 42ms/step - loss: 1.1638e-04 - mse: 1.1638e-04 - val_loss: 7.2371e-04 - val_mse: 7.2371e-04\n",
            "Epoch 129/150\n",
            "21/21 [==============================] - 1s 42ms/step - loss: 1.1816e-04 - mse: 1.1816e-04 - val_loss: 7.3799e-04 - val_mse: 7.3799e-04\n",
            "Epoch 130/150\n",
            "21/21 [==============================] - 1s 43ms/step - loss: 1.1684e-04 - mse: 1.1684e-04 - val_loss: 7.2789e-04 - val_mse: 7.2789e-04\n",
            "Epoch 131/150\n",
            "21/21 [==============================] - 1s 43ms/step - loss: 1.1796e-04 - mse: 1.1796e-04 - val_loss: 7.2937e-04 - val_mse: 7.2937e-04\n",
            "Epoch 132/150\n",
            "21/21 [==============================] - 1s 42ms/step - loss: 1.1706e-04 - mse: 1.1706e-04 - val_loss: 7.2599e-04 - val_mse: 7.2599e-04\n",
            "Epoch 133/150\n",
            "21/21 [==============================] - 1s 44ms/step - loss: 1.1583e-04 - mse: 1.1583e-04 - val_loss: 7.0739e-04 - val_mse: 7.0739e-04\n",
            "Epoch 134/150\n",
            "21/21 [==============================] - 1s 43ms/step - loss: 1.1544e-04 - mse: 1.1544e-04 - val_loss: 7.3377e-04 - val_mse: 7.3377e-04\n",
            "Epoch 135/150\n",
            "21/21 [==============================] - 1s 45ms/step - loss: 1.1492e-04 - mse: 1.1492e-04 - val_loss: 7.2571e-04 - val_mse: 7.2571e-04\n",
            "Epoch 136/150\n",
            "21/21 [==============================] - 1s 43ms/step - loss: 1.1464e-04 - mse: 1.1464e-04 - val_loss: 7.2936e-04 - val_mse: 7.2936e-04\n",
            "Epoch 137/150\n",
            "21/21 [==============================] - 1s 44ms/step - loss: 1.1480e-04 - mse: 1.1480e-04 - val_loss: 7.2264e-04 - val_mse: 7.2264e-04\n",
            "Epoch 138/150\n",
            "21/21 [==============================] - 1s 42ms/step - loss: 1.1366e-04 - mse: 1.1366e-04 - val_loss: 7.0651e-04 - val_mse: 7.0651e-04\n",
            "Epoch 139/150\n",
            "21/21 [==============================] - 1s 43ms/step - loss: 1.1609e-04 - mse: 1.1609e-04 - val_loss: 7.1069e-04 - val_mse: 7.1069e-04\n",
            "Epoch 140/150\n",
            "21/21 [==============================] - 1s 42ms/step - loss: 1.2252e-04 - mse: 1.2252e-04 - val_loss: 7.5888e-04 - val_mse: 7.5888e-04\n",
            "Epoch 141/150\n",
            "21/21 [==============================] - 1s 41ms/step - loss: 1.2436e-04 - mse: 1.2436e-04 - val_loss: 7.3767e-04 - val_mse: 7.3767e-04\n",
            "Epoch 142/150\n",
            "21/21 [==============================] - 1s 43ms/step - loss: 1.2708e-04 - mse: 1.2708e-04 - val_loss: 7.3210e-04 - val_mse: 7.3210e-04\n",
            "Epoch 143/150\n",
            "21/21 [==============================] - 1s 42ms/step - loss: 1.2614e-04 - mse: 1.2614e-04 - val_loss: 7.3942e-04 - val_mse: 7.3942e-04\n",
            "Epoch 144/150\n",
            "21/21 [==============================] - 1s 43ms/step - loss: 1.3384e-04 - mse: 1.3384e-04 - val_loss: 7.6608e-04 - val_mse: 7.6608e-04\n",
            "Epoch 145/150\n",
            "21/21 [==============================] - 1s 42ms/step - loss: 1.5392e-04 - mse: 1.5392e-04 - val_loss: 8.5797e-04 - val_mse: 8.5797e-04\n",
            "Epoch 146/150\n",
            "21/21 [==============================] - 1s 42ms/step - loss: 1.8857e-04 - mse: 1.8857e-04 - val_loss: 9.3364e-04 - val_mse: 9.3364e-04\n",
            "Epoch 147/150\n",
            "21/21 [==============================] - 1s 43ms/step - loss: 2.1072e-04 - mse: 2.1072e-04 - val_loss: 9.5441e-04 - val_mse: 9.5441e-04\n",
            "Epoch 148/150\n",
            "21/21 [==============================] - 1s 43ms/step - loss: 2.0779e-04 - mse: 2.0779e-04 - val_loss: 9.0838e-04 - val_mse: 9.0838e-04\n",
            "Epoch 149/150\n",
            "21/21 [==============================] - 1s 42ms/step - loss: 2.2236e-04 - mse: 2.2236e-04 - val_loss: 8.3345e-04 - val_mse: 8.3345e-04\n",
            "Epoch 150/150\n",
            "21/21 [==============================] - 1s 43ms/step - loss: 2.0975e-04 - mse: 2.0975e-04 - val_loss: 7.6828e-04 - val_mse: 7.6828e-04\n"
          ],
          "name": "stdout"
        }
      ]
    },
    {
      "cell_type": "code",
      "metadata": {
        "colab": {
          "base_uri": "https://localhost:8080/",
          "height": 350
        },
        "id": "F8GzVSFS1Gwn",
        "outputId": "3ae8b121-b16e-441d-ff5d-908368402428"
      },
      "source": [
        "# Plot loss vs iterations\n",
        "plt.figure(None,(20,5))\n",
        "plt.plot(history.history['loss'])\n",
        "plt.xlabel('Iterations')\n",
        "plt.ylabel('Validation Loss')\n",
        "plt.title('Validation Loss vs No of Iterations:')\n",
        "plt.xticks(np.arange(0, 150, 10))\n",
        "\n",
        "plt.show()"
      ],
      "execution_count": null,
      "outputs": [
        {
          "output_type": "display_data",
          "data": {
            "image/png": "[encoded data removed]",
            "text/plain": [
              "<Figure size 1440x360 with 1 Axes>"
            ]
          },
          "metadata": {
            "tags": [],
            "needs_background": "light"
          }
        }
      ]
    },
    {
      "cell_type": "code",
      "metadata": {
        "colab": {
          "base_uri": "https://localhost:8080/",
          "height": 229
        },
        "id": "omr749CK4D0J",
        "outputId": "ddb527ad-fef1-4ac3-9224-7dbd07a8770d"
      },
      "source": [
        "data_Start_Point = 200\n",
        "test_Data = All_Data[data_Start_Point:data_Start_Point+50,input];\n",
        "min = np.min(test_Data,axis = 0);\n",
        "max = np.max(test_Data,axis = 0);\n",
        "actual_Target = All_Data[data_Start_Point+50:data_Start_Point+55,1];\n",
        "results = model.predict((test_Data.reshape(1,50,8)-min)/max)\n",
        "results = results.reshape(5)\n",
        "results = results*max[1] + min[1];\n",
        "plt.plot(range(50,55),results*10, 'g')\n",
        "plt.plot(range(50,55),actual_Target*10, 'b')\n",
        "plt.ylabel('Price')\n",
        "plt.xlabel('Days')\n",
        "plt.xticks(np.arange(50,55,1))\n",
        "plt.title('Predicted(blue) vs Actual(green)')\n",
        "plt.show()"
      ],
      "execution_count": null,
      "outputs": [
        {
          "output_type": "error",
          "ename": "IndexError",
          "evalue": "ignored",
          "traceback": [
            "\u001b[0;31m---------------------------------------------------------------------------\u001b[0m",
            "\u001b[0;31mIndexError\u001b[0m                                Traceback (most recent call last)",
            "\u001b[0;32m<ipython-input-33-667679e7fbf7>\u001b[0m in \u001b[0;36m<module>\u001b[0;34m()\u001b[0m\n\u001b[1;32m      1\u001b[0m \u001b[0mdata_Start_Point\u001b[0m \u001b[0;34m=\u001b[0m \u001b[0;36m200\u001b[0m\u001b[0;34m\u001b[0m\u001b[0;34m\u001b[0m\u001b[0m\n\u001b[0;32m----> 2\u001b[0;31m \u001b[0mtest_Data\u001b[0m \u001b[0;34m=\u001b[0m \u001b[0mAll_Data\u001b[0m\u001b[0;34m[\u001b[0m\u001b[0mdata_Start_Point\u001b[0m\u001b[0;34m:\u001b[0m\u001b[0mdata_Start_Point\u001b[0m\u001b[0;34m+\u001b[0m\u001b[0;36m50\u001b[0m\u001b[0;34m,\u001b[0m\u001b[0minput\u001b[0m\u001b[0;34m]\u001b[0m\u001b[0;34m;\u001b[0m\u001b[0;34m\u001b[0m\u001b[0;34m\u001b[0m\u001b[0m\n\u001b[0m\u001b[1;32m      3\u001b[0m \u001b[0mmin\u001b[0m \u001b[0;34m=\u001b[0m \u001b[0mnp\u001b[0m\u001b[0;34m.\u001b[0m\u001b[0mmin\u001b[0m\u001b[0;34m(\u001b[0m\u001b[0mtest_Data\u001b[0m\u001b[0;34m,\u001b[0m\u001b[0maxis\u001b[0m \u001b[0;34m=\u001b[0m \u001b[0;36m0\u001b[0m\u001b[0;34m)\u001b[0m\u001b[0;34m;\u001b[0m\u001b[0;34m\u001b[0m\u001b[0;34m\u001b[0m\u001b[0m\n\u001b[1;32m      4\u001b[0m \u001b[0mmax\u001b[0m \u001b[0;34m=\u001b[0m \u001b[0mnp\u001b[0m\u001b[0;34m.\u001b[0m\u001b[0mmax\u001b[0m\u001b[0;34m(\u001b[0m\u001b[0mtest_Data\u001b[0m\u001b[0;34m,\u001b[0m\u001b[0maxis\u001b[0m \u001b[0;34m=\u001b[0m \u001b[0;36m0\u001b[0m\u001b[0;34m)\u001b[0m\u001b[0;34m;\u001b[0m\u001b[0;34m\u001b[0m\u001b[0;34m\u001b[0m\u001b[0m\n\u001b[1;32m      5\u001b[0m \u001b[0mactual_Target\u001b[0m \u001b[0;34m=\u001b[0m \u001b[0mAll_Data\u001b[0m\u001b[0;34m[\u001b[0m\u001b[0mdata_Start_Point\u001b[0m\u001b[0;34m+\u001b[0m\u001b[0;36m50\u001b[0m\u001b[0;34m:\u001b[0m\u001b[0mdata_Start_Point\u001b[0m\u001b[0;34m+\u001b[0m\u001b[0;36m55\u001b[0m\u001b[0;34m,\u001b[0m\u001b[0;36m1\u001b[0m\u001b[0;34m]\u001b[0m\u001b[0;34m;\u001b[0m\u001b[0;34m\u001b[0m\u001b[0;34m\u001b[0m\u001b[0m\n",
            "\u001b[0;31mIndexError\u001b[0m: only integers, slices (`:`), ellipsis (`...`), numpy.newaxis (`None`) and integer or boolean arrays are valid indices"
          ]
        }
      ]
    },
    {
      "cell_type": "markdown",
      "metadata": {
        "id": "ifYYFGQU4diD"
      },
      "source": [
        "there's a syntax error"
      ]
    }
  ]
}